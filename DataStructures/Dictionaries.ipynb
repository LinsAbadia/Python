{
 "cells": [
  {
   "cell_type": "markdown",
   "metadata": {},
   "source": [
    "#### Dictionary"
   ]
  },
  {
   "cell_type": "markdown",
   "metadata": {},
   "source": [
    "A dictionary is a collection which is unordered, changeable (i.e. mutable), and indexed (https://www.w3schools.com/python/python_dictionaries.asp).  It is composed of key value pairs.  If you're familiar with databases _keys_ are like _columns_"
   ]
  },
  {
   "cell_type": "markdown",
   "metadata": {},
   "source": [
    "**Creation**"
   ]
  },
  {
   "cell_type": "code",
   "execution_count": 89,
   "metadata": {},
   "outputs": [],
   "source": [
    "dictNATO = {\n",
    "    'a': \"alfa\",\n",
    "    'b': \"Bravo\",\n",
    "    'c': \"Charlie\"\n",
    "}"
   ]
  },
  {
   "cell_type": "markdown",
   "metadata": {},
   "source": [
    "I always thought 'a' in the NATO alphabet stood for the Greek letter 'alpha' but apparentlty (after doing some research) its acuually 'alfa' (as in thr car Alfa Romeo).  It is equivlent (and at times used as an alternative spelling) to the Greek letter but is rooted in Pheonician and Hebrew.\n",
    "\n",
    "It is phoentic alphabet and the word sounds are for differentiation and to avoid confusion from mishearing.  Growing up in a military family and being required to do ROTC at university, this is what I use."
   ]
  },
  {
   "cell_type": "code",
   "execution_count": 90,
   "metadata": {},
   "outputs": [
    {
     "data": {
      "text/plain": [
       "{'a': 'alfa', 'b': 'Bravo', 'c': 'Charlie'}"
      ]
     },
     "execution_count": 90,
     "metadata": {},
     "output_type": "execute_result"
    }
   ],
   "source": [
    "dictNATO"
   ]
  },
  {
   "cell_type": "markdown",
   "metadata": {},
   "source": [
    "**Assigment / Addition**"
   ]
  },
  {
   "cell_type": "code",
   "execution_count": 91,
   "metadata": {},
   "outputs": [],
   "source": [
    "dictNATO['d'] = \"dog\""
   ]
  },
  {
   "cell_type": "code",
   "execution_count": 92,
   "metadata": {},
   "outputs": [
    {
     "name": "stdout",
     "output_type": "stream",
     "text": [
      "{'a': 'alfa', 'b': 'Bravo', 'c': 'Charlie', 'd': 'dog'}\n"
     ]
    }
   ],
   "source": [
    "print(dictNATO)"
   ]
  },
  {
   "cell_type": "markdown",
   "metadata": {},
   "source": [
    "**Deletion**"
   ]
  },
  {
   "cell_type": "code",
   "execution_count": 93,
   "metadata": {},
   "outputs": [
    {
     "data": {
      "text/plain": [
       "'dog'"
      ]
     },
     "execution_count": 93,
     "metadata": {},
     "output_type": "execute_result"
    }
   ],
   "source": [
    "dictNATO.pop('d')"
   ]
  },
  {
   "cell_type": "code",
   "execution_count": 94,
   "metadata": {},
   "outputs": [
    {
     "name": "stdout",
     "output_type": "stream",
     "text": [
      "{'a': 'alfa', 'b': 'Bravo', 'c': 'Charlie'}\n"
     ]
    }
   ],
   "source": [
    "print(dictNATO)"
   ]
  },
  {
   "cell_type": "code",
   "execution_count": 95,
   "metadata": {},
   "outputs": [],
   "source": [
    "dictNATO['e'] = \"egg\""
   ]
  },
  {
   "cell_type": "code",
   "execution_count": 96,
   "metadata": {},
   "outputs": [
    {
     "name": "stdout",
     "output_type": "stream",
     "text": [
      "{'a': 'alfa', 'b': 'Bravo', 'c': 'Charlie', 'e': 'egg'}\n"
     ]
    }
   ],
   "source": [
    "print(dictNATO)"
   ]
  },
  {
   "cell_type": "code",
   "execution_count": 97,
   "metadata": {},
   "outputs": [],
   "source": [
    "del dictNATO['e']"
   ]
  },
  {
   "cell_type": "code",
   "execution_count": 100,
   "metadata": {},
   "outputs": [
    {
     "name": "stdout",
     "output_type": "stream",
     "text": [
      "{'a': 'alfa', 'b': 'Bravo', 'c': 'Charlie'}\n"
     ]
    }
   ],
   "source": [
    "print(dictNATO)"
   ]
  },
  {
   "cell_type": "code",
   "execution_count": 101,
   "metadata": {},
   "outputs": [
    {
     "name": "stdout",
     "output_type": "stream",
     "text": [
      "{'a': 'alfa', 'b': 'Bravo', 'c': 'Charlie'}\n"
     ]
    }
   ],
   "source": [
    "print(dictNATO)"
   ]
  },
  {
   "cell_type": "code",
   "execution_count": 102,
   "metadata": {},
   "outputs": [
    {
     "name": "stdout",
     "output_type": "stream",
     "text": [
      "alfa\n"
     ]
    }
   ],
   "source": [
    "print(dictNATO['a'])"
   ]
  },
  {
   "cell_type": "markdown",
   "metadata": {},
   "source": [
    "**Access or read an item** "
   ]
  },
  {
   "cell_type": "code",
   "execution_count": 103,
   "metadata": {},
   "outputs": [
    {
     "name": "stdout",
     "output_type": "stream",
     "text": [
      "alfa\n"
     ]
    }
   ],
   "source": [
    "print(dictNATO.get('a'))"
   ]
  },
  {
   "cell_type": "markdown",
   "metadata": {},
   "source": [
    "**Update / Modify**"
   ]
  },
  {
   "cell_type": "code",
   "execution_count": 104,
   "metadata": {},
   "outputs": [],
   "source": [
    "dictNATO['a'] = \"Alfa\""
   ]
  },
  {
   "cell_type": "code",
   "execution_count": 105,
   "metadata": {},
   "outputs": [
    {
     "name": "stdout",
     "output_type": "stream",
     "text": [
      "{'a': 'Alfa', 'b': 'Bravo', 'c': 'Charlie'}\n"
     ]
    }
   ],
   "source": [
    "print(dictNATO)"
   ]
  },
  {
   "cell_type": "markdown",
   "metadata": {},
   "source": [
    "**Copy / Duplicate**"
   ]
  },
  {
   "cell_type": "markdown",
   "metadata": {},
   "source": [
    "NOTE:  At first, I used _Replicate_ bit therr's a slight difference (https://writingexplained.org/replicate-vs-duplicate-difference)."
   ]
  },
  {
   "cell_type": "code",
   "execution_count": 106,
   "metadata": {},
   "outputs": [],
   "source": [
    "dictNATOCopy = dictNATO.copy()"
   ]
  },
  {
   "cell_type": "code",
   "execution_count": 107,
   "metadata": {},
   "outputs": [
    {
     "data": {
      "text/plain": [
       "{'a': 'Alfa', 'b': 'Bravo', 'c': 'Charlie'}"
      ]
     },
     "execution_count": 107,
     "metadata": {},
     "output_type": "execute_result"
    }
   ],
   "source": [
    "dictNATOCopy"
   ]
  },
  {
   "cell_type": "markdown",
   "metadata": {},
   "source": [
    "**Emptying or clearing a divtionary**"
   ]
  },
  {
   "cell_type": "code",
   "execution_count": 108,
   "metadata": {},
   "outputs": [],
   "source": [
    "dictNATOCopy.clear()"
   ]
  },
  {
   "cell_type": "code",
   "execution_count": 109,
   "metadata": {},
   "outputs": [
    {
     "data": {
      "text/plain": [
       "{}"
      ]
     },
     "execution_count": 109,
     "metadata": {},
     "output_type": "execute_result"
    }
   ],
   "source": [
    "dictNATOCopy"
   ]
  },
  {
   "cell_type": "markdown",
   "metadata": {},
   "source": [
    "**Deleting a dictionary**"
   ]
  },
  {
   "cell_type": "code",
   "execution_count": 110,
   "metadata": {},
   "outputs": [],
   "source": [
    "del dictNATOCopy"
   ]
  },
  {
   "cell_type": "code",
   "execution_count": 111,
   "metadata": {},
   "outputs": [
    {
     "ename": "NameError",
     "evalue": "name 'dictNATOCopy' is not defined",
     "output_type": "error",
     "traceback": [
      "\u001b[0;31m---------------------------------------------------------------------------\u001b[0m",
      "\u001b[0;31mNameError\u001b[0m                                 Traceback (most recent call last)",
      "\u001b[0;32m<ipython-input-111-722431fe574d>\u001b[0m in \u001b[0;36m<module>\u001b[0;34m\u001b[0m\n\u001b[0;32m----> 1\u001b[0;31m \u001b[0mdictNATOCopy\u001b[0m\u001b[0;34m\u001b[0m\u001b[0;34m\u001b[0m\u001b[0m\n\u001b[0m",
      "\u001b[0;31mNameError\u001b[0m: name 'dictNATOCopy' is not defined"
     ]
    }
   ],
   "source": [
    "dictNATOCopy"
   ]
  },
  {
   "cell_type": "code",
   "execution_count": 123,
   "metadata": {},
   "outputs": [],
   "source": [
    "dictNATOB = {\n",
    "    'd': \"Delta\",\n",
    "    'e': \"Echo\",\n",
    "    'f': \"Foxtrot\",\n",
    "    'g':  \"Golf\",\n",
    "    'h':  \"Hotel\",\n",
    "    'i':  \"India\",\n",
    "    'j':  \"Juliet\",\n",
    "    'k':  \"Kilo\",\n",
    "    'l':  \"Lima\",\n",
    "    'm':  \"Mike\",\n",
    "    'n':  \"November\",\n",
    "    'o':  \"Oscar\",\n",
    "    'p':  \"Papa\",\n",
    "    'q':  \"Quebec\",\n",
    "    'r':  \"Romeo\",\n",
    "    's':  \"Sierra\",\n",
    "    't':  \"Tango\",\n",
    "    'u':  \"Uniform\",\n",
    "    'v':  \"Victor\",\n",
    "    'w':  \"Whiskey\",\n",
    "    'x':  \"X-ray\",\n",
    "    'y':  \"Yankee\",\n",
    "    'z':  \"Zulu\"\n",
    "}"
   ]
  },
  {
   "cell_type": "code",
   "execution_count": 124,
   "metadata": {},
   "outputs": [
    {
     "name": "stdout",
     "output_type": "stream",
     "text": [
      "{'d': 'Delta', 'e': 'Echo', 'f': 'Foxtrot', 'g': 'Golf', 'h': 'Hotel', 'i': 'India', 'j': 'Juliet', 'k': 'Kilo', 'l': 'Lima', 'm': 'Mike', 'n': 'November', 'o': 'Oscar', 'p': 'Papa', 'q': 'Quebec', 'r': 'Romeo', 's': 'Sierra', 't': 'Tango', 'u': 'Uniform', 'v': 'Victor', 'w': 'Whiskey', 'x': 'X-ray', 'y': 'Yankee', 'z': 'Zulu'}\n"
     ]
    }
   ],
   "source": [
    "print(dictNATOB)"
   ]
  },
  {
   "cell_type": "markdown",
   "metadata": {},
   "source": [
    "**Adding two dicionarirs to each other**"
   ]
  },
  {
   "cell_type": "markdown",
   "metadata": {},
   "source": [
    "NOTE: the rule is if a number is less than 10 then you should spell out the word."
   ]
  },
  {
   "cell_type": "code",
   "execution_count": 125,
   "metadata": {},
   "outputs": [],
   "source": [
    "dictNATO = {**dictNATO, **dictNATOB} # From..."
   ]
  },
  {
   "cell_type": "code",
   "execution_count": 126,
   "metadata": {},
   "outputs": [
    {
     "data": {
      "text/plain": [
       "{'a': 'Alfa',\n",
       " 'b': 'Bravo',\n",
       " 'c': 'Charlie',\n",
       " 'd': 'Delta',\n",
       " 'e': 'Echo',\n",
       " 'f': 'Foxtrot',\n",
       " 'g': 'Golf',\n",
       " 'h': 'Hotel',\n",
       " 'i': 'India',\n",
       " 'j': 'Juliet',\n",
       " 'k': 'Kilo',\n",
       " 'l': 'Lima',\n",
       " 'm': 'Mike',\n",
       " 'n': 'November',\n",
       " 'o': 'Oscar',\n",
       " 'p': 'Papa',\n",
       " 'q': 'Quebec',\n",
       " 'r': 'Romeo',\n",
       " 's': 'Sierra',\n",
       " 't': 'Tango',\n",
       " 'u': 'Uniform',\n",
       " 'v': 'Victor',\n",
       " 'w': 'Whiskey',\n",
       " 'x': 'X-ray',\n",
       " 'y': 'Yankee',\n",
       " 'z': 'Zulu'}"
      ]
     },
     "execution_count": 126,
     "metadata": {},
     "output_type": "execute_result"
    }
   ],
   "source": [
    "dictNATO"
   ]
  },
  {
   "cell_type": "markdown",
   "metadata": {},
   "source": [
    "**Using _for_ loops**"
   ]
  },
  {
   "cell_type": "code",
   "execution_count": 127,
   "metadata": {},
   "outputs": [
    {
     "name": "stdout",
     "output_type": "stream",
     "text": [
      "a :  Alfa\n",
      "b :  Bravo\n",
      "c :  Charlie\n",
      "d :  Delta\n",
      "e :  Echo\n",
      "f :  Foxtrot\n",
      "g :  Golf\n",
      "h :  Hotel\n",
      "i :  India\n",
      "j :  Juliet\n",
      "k :  Kilo\n",
      "l :  Lima\n",
      "m :  Mike\n",
      "n :  November\n",
      "o :  Oscar\n",
      "p :  Papa\n",
      "q :  Quebec\n",
      "r :  Romeo\n",
      "s :  Sierra\n",
      "t :  Tango\n",
      "u :  Uniform\n",
      "v :  Victor\n",
      "w :  Whiskey\n",
      "x :  X-ray\n",
      "y :  Yankee\n",
      "z :  Zulu\n"
     ]
    }
   ],
   "source": [
    "for letter in dictNATO: print(letter, \": \", dictNATO[letter])"
   ]
  },
  {
   "cell_type": "code",
   "execution_count": 128,
   "metadata": {},
   "outputs": [
    {
     "name": "stdout",
     "output_type": "stream",
     "text": [
      "Alfa\n",
      "Bravo\n",
      "Charlie\n",
      "Delta\n",
      "Echo\n",
      "Foxtrot\n",
      "Golf\n",
      "Hotel\n",
      "India\n",
      "Juliet\n",
      "Kilo\n",
      "Lima\n",
      "Mike\n",
      "November\n",
      "Oscar\n",
      "Papa\n",
      "Quebec\n",
      "Romeo\n",
      "Sierra\n",
      "Tango\n",
      "Uniform\n",
      "Victor\n",
      "Whiskey\n",
      "X-ray\n",
      "Yankee\n",
      "Zulu\n"
     ]
    }
   ],
   "source": [
    "for words in dictNATO.values(): print(words)"
   ]
  },
  {
   "cell_type": "code",
   "execution_count": 129,
   "metadata": {},
   "outputs": [
    {
     "name": "stdout",
     "output_type": "stream",
     "text": [
      "a :  Alfa\n",
      "b :  Bravo\n",
      "c :  Charlie\n",
      "d :  Delta\n",
      "e :  Echo\n",
      "f :  Foxtrot\n",
      "g :  Golf\n",
      "h :  Hotel\n",
      "i :  India\n",
      "j :  Juliet\n",
      "k :  Kilo\n",
      "l :  Lima\n",
      "m :  Mike\n",
      "n :  November\n",
      "o :  Oscar\n",
      "p :  Papa\n",
      "q :  Quebec\n",
      "r :  Romeo\n",
      "s :  Sierra\n",
      "t :  Tango\n",
      "u :  Uniform\n",
      "v :  Victor\n",
      "w :  Whiskey\n",
      "x :  X-ray\n",
      "y :  Yankee\n",
      "z :  Zulu\n"
     ]
    }
   ],
   "source": [
    "for letters, words in dictNATO.items(): print(letters,\": \", words) "
   ]
  },
  {
   "cell_type": "markdown",
   "metadata": {},
   "source": [
    "NOTE: As far as I can tell dictionaries are equivalent to  dataframes for all intents and purposes, it's just the latter is supposed to be a faster and more flexible data structure.  This is more obvious when dealing with \"large\" datasets with a \"significant\" number of rows."
   ]
  },
  {
   "cell_type": "code",
   "execution_count": null,
   "metadata": {},
   "outputs": [],
   "source": []
  }
 ],
 "metadata": {
  "kernelspec": {
   "display_name": "Python",
   "language": "python",
   "name": "conda-env-python-py"
  },
  "language_info": {
   "codemirror_mode": {
    "name": "ipython",
    "version": 3
   },
   "file_extension": ".py",
   "mimetype": "text/x-python",
   "name": "python",
   "nbconvert_exporter": "python",
   "pygments_lexer": "ipython3",
   "version": "3.6.7"
  }
 },
 "nbformat": 4,
 "nbformat_minor": 4
}
