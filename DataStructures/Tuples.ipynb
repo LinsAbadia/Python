{
 "cells": [
  {
   "cell_type": "markdown",
   "metadata": {},
   "source": [
    "#### Sequences in Python\n",
    "\n",
    "Arrays, Tuples, and List\n",
    "\n",
    "While _Arrays_(i.e. multiple itams of the same data type) are a common feature of most programming languages, (as far as I know) they don't exist in Python. Instead two specialised type exist: _Tuples_ and _Lists_.  The main difference is that the former is _immutable_ \n",
    "(i.e. of a fixed, predefined length making it faster); while the latter is _mutable_ (and can be dynamically assigned value(s) or expand).\n",
    "_Tuple_ refers to a data sructure with multiple parts; but anyone exposed to Databases ( in my case, Structured Query Language or SQL - pronounced as sequel) know it as a record. "
   ]
  },
  {
   "cell_type": "code",
   "execution_count": 2,
   "metadata": {},
   "outputs": [],
   "source": [
    "tup1a = 1, 2, 3"
   ]
  },
  {
   "cell_type": "code",
   "execution_count": 3,
   "metadata": {},
   "outputs": [],
   "source": [
    "tup1b = (1, 2, 3)"
   ]
  },
  {
   "cell_type": "markdown",
   "metadata": {},
   "source": [
    "You can use either form when defining a _tuple_.  However, parenthetical delimiters are the standard convention as more complex instances like \"nested\" _tuples_ can alo be supported (see sample below)."
   ]
  },
  {
   "cell_type": "code",
   "execution_count": 4,
   "metadata": {},
   "outputs": [],
   "source": [
    "tup2a = (1, 2, 3), (4, 5, 6)"
   ]
  },
  {
   "cell_type": "code",
   "execution_count": 5,
   "metadata": {},
   "outputs": [],
   "source": [
    "tup2b = ((1, 2, 3), (4, 5, 6))"
   ]
  },
  {
   "cell_type": "code",
   "execution_count": 6,
   "metadata": {},
   "outputs": [],
   "source": [
    "tup3 = ((1, 2, 3), ('a','b','c'))"
   ]
  },
  {
   "cell_type": "markdown",
   "metadata": {},
   "source": [
    "It seems one reason the term _array_ isn't used because it can contain 'heterogenous' elements and not the default 'homogenous'"
   ]
  },
  {
   "cell_type": "markdown",
   "metadata": {},
   "source": [
    "Learning Activity:  Try and see what happens when a _tuple's_ element is mutable"
   ]
  },
  {
   "cell_type": "markdown",
   "metadata": {},
   "source": [
    "Like a _string_, a _tuple's_ elements can be referenced by _slicing_."
   ]
  },
  {
   "cell_type": "code",
   "execution_count": 7,
   "metadata": {},
   "outputs": [
    {
     "data": {
      "text/plain": [
       "1"
      ]
     },
     "execution_count": 7,
     "metadata": {},
     "output_type": "execute_result"
    }
   ],
   "source": [
    "tup1a[0]"
   ]
  },
  {
   "cell_type": "markdown",
   "metadata": {},
   "source": [
    "REMINDER: Python indeces begin at '0'"
   ]
  },
  {
   "cell_type": "markdown",
   "metadata": {},
   "source": [
    "Learning Activity:  What happens when you try _concatenating_ (putting together or 'adding') something?  What about multiplication?"
   ]
  }
 ],
 "metadata": {
  "kernelspec": {
   "display_name": "Python",
   "language": "python",
   "name": "conda-env-python-py"
  },
  "language_info": {
   "codemirror_mode": {
    "name": "ipython",
    "version": 3
   },
   "file_extension": ".py",
   "mimetype": "text/x-python",
   "name": "python",
   "nbconvert_exporter": "python",
   "pygments_lexer": "ipython3",
   "version": "3.6.7"
  }
 },
 "nbformat": 4,
 "nbformat_minor": 4
}
