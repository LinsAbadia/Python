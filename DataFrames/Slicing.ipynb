{
 "cells": [
  {
   "cell_type": "markdown",
   "metadata": {},
   "source": [
    "#### \"Slicing\" DataFrames \n",
    "\n",
    "\"Slicing\" is a way to get a \"suset\" of a DataFrame using its indeces."
   ]
  },
  {
   "cell_type": "code",
   "execution_count": 2,
   "metadata": {},
   "outputs": [],
   "source": [
    "import pandas as pd"
   ]
  },
  {
   "cell_type": "code",
   "execution_count": 17,
   "metadata": {},
   "outputs": [],
   "source": [
    "data = {'Integer': [0, 1, 2, 3, 4, 5],\n",
    "        'English': ['zero', 'one', 'two', 'three', 'four', 'five'],\n",
    "        'Mandarin': ['líng', 'yī', 'èr', 'sān', 'sì', 'wǔ'],\n",
    "        'Spanish': ['cero', 'uno', 'dos', 'tres', 'cuatro', 'cinco']}"
   ]
  },
  {
   "cell_type": "code",
   "execution_count": 18,
   "metadata": {},
   "outputs": [
    {
     "name": "stdout",
     "output_type": "stream",
     "text": [
      "   Integer English Mandarin Spanish\n",
      "0        0    zero     líng    cero\n",
      "1        1     one       yī     uno\n",
      "2        2     two       èr     dos\n",
      "3        3   three      sān    tres\n",
      "4        4    four       sì  cuatro\n",
      "5        5    five       wǔ   cinco \n",
      "\n"
     ]
    }
   ],
   "source": [
    "df_count = pd.DataFrame(data)\n",
    "\n",
    "print(df_count, '\\n') "
   ]
  },
  {
   "cell_type": "code",
   "execution_count": 19,
   "metadata": {},
   "outputs": [
    {
     "name": "stdout",
     "output_type": "stream",
     "text": [
      "   Integer English Mandarin Spanish\n",
      "0        0    zero     líng    cero\n",
      "1        1     one       yī     uno\n",
      "2        2     two       èr     dos\n",
      "3        3   three      sān    tres\n",
      "4        4    four       sì  cuatro \n",
      "\n"
     ]
    }
   ],
   "source": [
    "df_rows = df_count[0:5] #reference rows starting at zero and ending at four - it's important to note that the final digit is excluded.  \n",
    "\n",
    "print(df_rows, '\\n')"
   ]
  },
  {
   "cell_type": "code",
   "execution_count": 20,
   "metadata": {},
   "outputs": [
    {
     "name": "stdout",
     "output_type": "stream",
     "text": [
      "   Integer English Mandarin Spanish\n",
      "0        0    zero     líng    cero\n",
      "1        1     one       yī     uno\n",
      "2        2     two       èr     dos\n",
      "3        3   three      sān    tres\n",
      "4        4    four       sì  cuatro \n",
      "\n"
     ]
    }
   ],
   "source": [
    "df_rows = df_count[0:5] #reference rows starting at zero and ending at four - it's important to note that the final digit is excluded.  \n",
    "\n",
    "print(df_rows, '\\n')"
   ]
  },
  {
   "cell_type": "code",
   "execution_count": 21,
   "metadata": {},
   "outputs": [
    {
     "name": "stdout",
     "output_type": "stream",
     "text": [
      "   Integer English Mandarin Spanish\n",
      "0        0    zero     líng    cero\n",
      "1        1     one       yī     uno\n",
      "2        2     two       èr     dos\n",
      "3        3   three      sān    tres\n",
      "4        4    four       sì  cuatro \n",
      "\n"
     ]
    }
   ],
   "source": [
    "df_rows2 = df_count[:5] #if you omit the first digit it starts at the beginning of a DataFrame.\n",
    "\n",
    "print(df_rows2, '\\n')"
   ]
  },
  {
   "cell_type": "code",
   "execution_count": 22,
   "metadata": {},
   "outputs": [
    {
     "name": "stdout",
     "output_type": "stream",
     "text": [
      "   Integer English Mandarin Spanish\n",
      "1        1     one       yī     uno\n",
      "2        2     two       èr     dos\n",
      "3        3   three      sān    tres\n",
      "4        4    four       sì  cuatro\n",
      "5        5    five       wǔ   cinco \n",
      "\n"
     ]
    }
   ],
   "source": [
    "df_rows3 = df_count[1:] #if you omit the last digit it goes until the end of a DataFrame.\n",
    "\n",
    "print(df_rows3, '\\n')"
   ]
  },
  {
   "cell_type": "code",
   "execution_count": 23,
   "metadata": {},
   "outputs": [
    {
     "name": "stdout",
     "output_type": "stream",
     "text": [
      "   Integer English Mandarin Spanish\n",
      "0        0    zero     líng    cero\n",
      "1        1     one       yī     uno\n",
      "2        2     two       èr     dos\n",
      "3        3   three      sān    tres\n",
      "4        4    four       sì  cuatro\n",
      "5        5    five       wǔ   cinco \n",
      "\n"
     ]
    }
   ],
   "source": [
    "df_rows4 = df_count[:] #omitting both digits is equivalent to specifying all rows of a DataFrame.\n",
    "\n",
    "print(df_rows4, '\\n')"
   ]
  },
  {
   "cell_type": "code",
   "execution_count": 24,
   "metadata": {},
   "outputs": [
    {
     "name": "stdout",
     "output_type": "stream",
     "text": [
      "0     zero\n",
      "1      one\n",
      "2      two\n",
      "3    three\n",
      "4     four\n",
      "5     five\n",
      "Name: English, dtype: object\n"
     ]
    }
   ],
   "source": [
    "df_cols = df_count['English'] #you can return an entire column by speciying it in quotes\n",
    "\n",
    "print(df_cols)"
   ]
  },
  {
   "cell_type": "code",
   "execution_count": 25,
   "metadata": {},
   "outputs": [
    {
     "name": "stdout",
     "output_type": "stream",
     "text": [
      "  English Spanish\n",
      "0    zero    cero\n",
      "1     one     uno\n",
      "2     two     dos\n",
      "3   three    tres\n",
      "4    four  cuatro\n",
      "5    five   cinco\n"
     ]
    }
   ],
   "source": [
    "df_cols2 = df_count[['English', 'Spanish']] #you can return several columns by speciying each in quotes. It's important to note that a second set of square brackets are required for cases such as these.\n",
    "\n",
    "print(df_cols2)"
   ]
  },
  {
   "cell_type": "code",
   "execution_count": 26,
   "metadata": {},
   "outputs": [
    {
     "name": "stdout",
     "output_type": "stream",
     "text": [
      "  English  Integer Spanish\n",
      "0    zero        0    cero\n",
      "1     one        1     uno\n",
      "2     two        2     dos\n",
      "3   three        3    tres\n",
      "4    four        4  cuatro\n",
      "5    five        5   cinco\n"
     ]
    }
   ],
   "source": [
    "df_cols3 = df_count[df_count.columns.difference(['Mandarin'])] #However, if you don't know the namrs of all the columns exept the one you wish to exclude \n",
    "\n",
    "print(df_cols3)"
   ]
  },
  {
   "cell_type": "code",
   "execution_count": 27,
   "metadata": {},
   "outputs": [
    {
     "name": "stdout",
     "output_type": "stream",
     "text": [
      "   Integer English Spanish\n",
      "0        0    zero    cero\n",
      "1        1     one     uno\n",
      "2        2     two     dos\n",
      "3        3   three    tres\n",
      "4        4    four  cuatro\n",
      "5        5    five   cinco \n",
      "\n"
     ]
    }
   ],
   "source": [
    "df_cols4 = df_count[[x for x in df_count.columns if x != 'Mandarin']] #another way to excude a column\n",
    "\n",
    "print(df_cols4, '\\n')"
   ]
  },
  {
   "cell_type": "markdown",
   "metadata": {},
   "source": [
    "The last example is an apt transition for \"condtional selections\"."
   ]
  },
  {
   "cell_type": "code",
   "execution_count": 31,
   "metadata": {},
   "outputs": [
    {
     "name": "stdout",
     "output_type": "stream",
     "text": [
      "0    False\n",
      "1     True\n",
      "2     True\n",
      "3     True\n",
      "4     True\n",
      "5     True\n",
      "Name: Integer, dtype: bool\n"
     ]
    }
   ],
   "source": [
    "df_cond = df_count['Integer'] >= 1 #given each row, evaluate the condition and assign a Boolean value.  I illustrated this because it's a common mistake.\n",
    "\n",
    "print(df_cond)"
   ]
  },
  {
   "cell_type": "code",
   "execution_count": 32,
   "metadata": {},
   "outputs": [
    {
     "name": "stdout",
     "output_type": "stream",
     "text": [
      "   Integer English Mandarin Spanish\n",
      "1        1     one       yī     uno\n",
      "2        2     two       èr     dos\n",
      "3        3   three      sān    tres\n",
      "4        4    four       sì  cuatro\n",
      "5        5    five       wǔ   cinco\n"
     ]
    }
   ],
   "source": [
    "df_cond2 = df_count[df_count['Integer'] >= 1] #return rows with positive numbers\n",
    "\n",
    "print(df_cond2)"
   ]
  },
  {
   "cell_type": "code",
   "execution_count": 37,
   "metadata": {},
   "outputs": [
    {
     "name": "stdout",
     "output_type": "stream",
     "text": [
      "   Integer English Mandarin Spanish\n",
      "2        2     two       èr     dos\n",
      "4        4    four       sì  cuatro\n"
     ]
    }
   ],
   "source": [
    "df_cond3 = df_count[(df_count['Integer'] >= 1) & (~df_count['Integer'] % 2)] #return rows with positive numbers AND that's divible by two\n",
    "\n",
    "print(df_cond3)"
   ]
  },
  {
   "cell_type": "markdown",
   "metadata": {},
   "source": [
    "For the sake of readability you may assign the conditions to variables."
   ]
  },
  {
   "cell_type": "code",
   "execution_count": 42,
   "metadata": {},
   "outputs": [
    {
     "name": "stdout",
     "output_type": "stream",
     "text": [
      "   Integer English Mandarin Spanish\n",
      "2        2     two       èr     dos\n",
      "4        4    four       sì  cuatro\n"
     ]
    }
   ],
   "source": [
    "positive = df_count['Integer'] >= 1\n",
    "divisibleBy2 = ~df_count['Integer'] % 2 # the '%' is a modulo operator, while the '~' is an inverter or NOT symbol\n",
    "\n",
    "df_cond3b = df_count[positive & divisibleBy2] #return rows with positive numbers AND that's divible by two\n",
    "\n",
    "print(df_cond3b)"
   ]
  },
  {
   "cell_type": "code",
   "execution_count": 52,
   "metadata": {},
   "outputs": [
    {
     "name": "stdout",
     "output_type": "stream",
     "text": [
      "   Integer English Mandarin Spanish\n",
      "0        0    zero     líng    cero\n",
      "1        1     one       yī     uno\n",
      "2        2     two       èr     dos\n",
      "3        3   three      sān    tres\n",
      "4        4    four       sì  cuatro\n",
      "5        5    five       wǔ   cinco\n"
     ]
    }
   ],
   "source": [
    "nullEnglish = ~df_count['English'].notnull() #I used notnull() as most datasets have empty values\n",
    "nullMandarin = ~df_count['Mandarin'].notnull()\n",
    "nullSpanish = ~df_count['Spanish'].notnull()\n",
    "\n",
    "df_cond4 = df_count[~( nullEnglish | nullMandarin | nullSpanish)] #Had to use a \"double negative\" of sorts to illustrate the use of OR.\n",
    "\n",
    "print(df_cond4)"
   ]
  },
  {
   "cell_type": "markdown",
   "metadata": {},
   "source": [
    "Learning Activity: What effect does NOT have on AND? OR? "
   ]
  },
  {
   "cell_type": "markdown",
   "metadata": {},
   "source": [
    "You can also \"slice\" specific rows and columns. As far as I'm aware, you need to use something like _.loc_ or _.iloc_ functions.  Previously. you could use _.ix_ but I think it has been deprecated( that is, only \"older\" versions of Python made use of it)."
   ]
  },
  {
   "cell_type": "code",
   "execution_count": null,
   "metadata": {},
   "outputs": [],
   "source": []
  }
 ],
 "metadata": {
  "kernelspec": {
   "display_name": "Python",
   "language": "python",
   "name": "conda-env-python-py"
  },
  "language_info": {
   "codemirror_mode": {
    "name": "ipython",
    "version": 3
   },
   "file_extension": ".py",
   "mimetype": "text/x-python",
   "name": "python",
   "nbconvert_exporter": "python",
   "pygments_lexer": "ipython3",
   "version": "3.6.7"
  }
 },
 "nbformat": 4,
 "nbformat_minor": 4
}
