{
 "cells": [
  {
   "cell_type": "code",
   "execution_count": 1,
   "metadata": {},
   "outputs": [],
   "source": [
    "import pandas as pd"
   ]
  },
  {
   "cell_type": "code",
   "execution_count": 2,
   "metadata": {},
   "outputs": [],
   "source": [
    "data = {'English': ['zero', 'one', 'two', 'three', 'four', 'five'],\n",
    "        'Mandarin': ['líng', 'yī', 'èr', 'sān', 'sì', 'wǔ'],\n",
    "        'Spanish': ['cero', 'uno', 'dos', 'tres', 'cuatro', 'cinco']}"
   ]
  },
  {
   "cell_type": "code",
   "execution_count": 3,
   "metadata": {},
   "outputs": [],
   "source": [
    "df_count = pd.DataFrame(data)"
   ]
  },
  {
   "cell_type": "code",
   "execution_count": 4,
   "metadata": {},
   "outputs": [],
   "source": [
    "df_count = pd.DataFrame(data)"
   ]
  },
  {
   "cell_type": "markdown",
   "metadata": {},
   "source": [
    "I use various _print()_ methods in the code as most Jupyter notebook only show the single final output by default. While it is an invaluable tool in debugging code, I encourage its use as a \"preventive\" measure (as I'm an advocate of avoiding rather than dealing with problems - empirically the earlier on addressing any issues is cheaper\")."
   ]
  },
  {
   "cell_type": "markdown",
   "metadata": {},
   "source": [
    "An issue I've had is that some error codes are quite \"cryptic\" (you can paste them into a search engine to get more information). And if you're used to using an IDE (Inegrated Development Environment) for a compiled programming language as I am, the errors may be somewhere else as what has been flagged is merely the effect."
   ]
  },
  {
   "cell_type": "markdown",
   "metadata": {},
   "source": [
    "You might need to check the contents of the DataFrame (particularly if the column names are as expected) "
   ]
  },
  {
   "cell_type": "code",
   "execution_count": 5,
   "metadata": {},
   "outputs": [
    {
     "name": "stdout",
     "output_type": "stream",
     "text": [
      "  English Mandarin Spanish\n",
      "0    zero     líng    cero\n",
      "1     one       yī     uno\n",
      "2     two       èr     dos\n",
      "3   three      sān    tres\n",
      "4    four       sì  cuatro\n",
      "5    five       wǔ   cinco \n",
      "\n"
     ]
    }
   ],
   "source": [
    "print(df_count, '\\n') #display the entire DataFrame (however, most notebook omit the central rows and divide the coluns by '\\')"
   ]
  },
  {
   "cell_type": "code",
   "execution_count": 6,
   "metadata": {},
   "outputs": [
    {
     "name": "stdout",
     "output_type": "stream",
     "text": [
      "  English Mandarin Spanish\n",
      "0    zero     líng    cero\n",
      "1     one       yī     uno\n",
      "2     two       èr     dos\n",
      "3   three      sān    tres\n",
      "4    four       sì  cuatro \n",
      "   English Mandarin Spanish\n",
      "1     one       yī     uno\n",
      "2     two       èr     dos\n",
      "3   three      sān    tres\n",
      "4    four       sì  cuatro\n",
      "5    five       wǔ   cinco \n",
      "\n"
     ]
    }
   ],
   "source": [
    "print(df_count.head(),'\\n', df_count.tail(), '\\n')#I use these to get a snapshot. you can specify the number of rows to retrirve with each method"
   ]
  },
  {
   "cell_type": "code",
   "execution_count": 7,
   "metadata": {},
   "outputs": [
    {
     "name": "stdout",
     "output_type": "stream",
     "text": [
      "<class 'pandas.core.frame.DataFrame'>\n",
      "RangeIndex: 6 entries, 0 to 5\n",
      "Data columns (total 3 columns):\n",
      "English     6 non-null object\n",
      "Mandarin    6 non-null object\n",
      "Spanish     6 non-null object\n",
      "dtypes: object(3)\n",
      "memory usage: 272.0+ bytes\n",
      "None \n",
      "        English Mandarin Spanish\n",
      "count        6        6       6\n",
      "unique       6        6       6\n",
      "top        one       sì     uno\n",
      "freq         1        1       1\n"
     ]
    }
   ],
   "source": [
    "print(df_count.info(), '\\n', df_count.describe()) #get info about the DataFrame and its contents"
   ]
  },
  {
   "cell_type": "markdown",
   "metadata": {},
   "source": [
    "You might need to check the number of rows and coluns are what you expect (prticularly if you call _merge()_."
   ]
  },
  {
   "cell_type": "code",
   "execution_count": 8,
   "metadata": {},
   "outputs": [
    {
     "name": "stdout",
     "output_type": "stream",
     "text": [
      "(6, 3) \n",
      " 6 \n",
      " 6 \n",
      " 6 \n",
      " 3 \n",
      " 3 \n",
      " Index(['English', 'Mandarin', 'Spanish'], dtype='object')\n"
     ]
    }
   ],
   "source": [
    "print(df_count.shape, '\\n', #show the number of rows by the number of columns in the DataFrame\n",
    "      df_count.shape[0], '\\n', len(df_count), '\\n',  len(df_count.index), '\\n', # get the number of rows in the DataFrame\n",
    "      df_count.shape[1], '\\n', len(df_count.columns), '\\n', df_count.columns ) # get the number of columns (and thrir names) in the DataFrame"
   ]
  },
  {
   "cell_type": "markdown",
   "metadata": {},
   "source": [
    "You might need to check the index or ensure its the correct data type (as Python sometimes does \"automatic\" type conversion)"
   ]
  },
  {
   "cell_type": "code",
   "execution_count": 9,
   "metadata": {},
   "outputs": [
    {
     "name": "stdout",
     "output_type": "stream",
     "text": [
      "RangeIndex(start=0, stop=6, step=1) \n",
      " <class 'pandas.core.frame.DataFrame'>\n"
     ]
    }
   ],
   "source": [
    "print(df_count.index, '\\n', type(df_count)) #get info about the index and the data type"
   ]
  },
  {
   "cell_type": "markdown",
   "metadata": {},
   "source": [
    "You can check if there ary any missing or null (e.g. None, Nan, or NaT) values that can mess up any processing (particularly computations)."
   ]
  },
  {
   "cell_type": "code",
   "execution_count": 10,
   "metadata": {},
   "outputs": [
    {
     "name": "stdout",
     "output_type": "stream",
     "text": [
      "English     0\n",
      "Mandarin    0\n",
      "Spanish     0\n",
      "dtype: int64\n"
     ]
    }
   ],
   "source": [
    "print(df_count.isnull().sum())"
   ]
  },
  {
   "cell_type": "code",
   "execution_count": null,
   "metadata": {},
   "outputs": [],
   "source": []
  }
 ],
 "metadata": {
  "kernelspec": {
   "display_name": "Python",
   "language": "python",
   "name": "conda-env-python-py"
  },
  "language_info": {
   "codemirror_mode": {
    "name": "ipython",
    "version": 3
   },
   "file_extension": ".py",
   "mimetype": "text/x-python",
   "name": "python",
   "nbconvert_exporter": "python",
   "pygments_lexer": "ipython3",
   "version": "3.6.7"
  }
 },
 "nbformat": 4,
 "nbformat_minor": 4
}
