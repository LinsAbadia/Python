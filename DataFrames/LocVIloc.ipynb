{
 "cells": [
  {
   "cell_type": "markdown",
   "metadata": {},
   "source": [
    "#### loc vs. iloc\n",
    "\n",
    "Both are \"indexers' used in data selection.\n",
    "\n",
    "print(\"\\n -- loc -- \\n\")\n",
    "print(df.loc[df['Age'] < 30, ['Color', 'Height']])\n",
    " \n",
    "print(\"\\n -- iloc -- \\n\")\n",
    "print(df.iloc[(df['Age'] < 30).values, [1, 3]])"
   ]
  },
  {
   "cell_type": "code",
   "execution_count": 1,
   "metadata": {},
   "outputs": [],
   "source": [
    "import pandas as pd"
   ]
  },
  {
   "cell_type": "code",
   "execution_count": 2,
   "metadata": {},
   "outputs": [],
   "source": [
    "data = {'Integer': [0, 1, 2, 3, 4, 5],\n",
    "        'English': ['zero', 'one', 'two', 'three', 'four', 'five'],\n",
    "        'Mandarin': ['líng', 'yī', 'èr', 'sān', 'sì', 'wǔ'],\n",
    "        'Spanish': ['cero', 'uno', 'dos', 'tres', 'cuatro', 'cinco']}"
   ]
  },
  {
   "cell_type": "code",
   "execution_count": 3,
   "metadata": {},
   "outputs": [
    {
     "name": "stdout",
     "output_type": "stream",
     "text": [
      "   Integer English Mandarin Spanish\n",
      "0        0    zero     líng    cero\n",
      "1        1     one       yī     uno\n",
      "2        2     two       èr     dos\n",
      "3        3   three      sān    tres\n",
      "4        4    four       sì  cuatro\n",
      "5        5    five       wǔ   cinco \n",
      "\n"
     ]
    }
   ],
   "source": [
    "df_count = pd.DataFrame(data)\n",
    "\n",
    "print(df_count, '\\n') "
   ]
  },
  {
   "cell_type": "markdown",
   "metadata": {},
   "source": [
    "**loc** is typically used for boolean selection or conditional statement."
   ]
  },
  {
   "cell_type": "code",
   "execution_count": 4,
   "metadata": {},
   "outputs": [],
   "source": [
    "df_loc = df_count.loc[df_count['Integer'] > 0 ]"
   ]
  },
  {
   "cell_type": "code",
   "execution_count": 5,
   "metadata": {},
   "outputs": [
    {
     "name": "stdout",
     "output_type": "stream",
     "text": [
      "   Integer English Mandarin Spanish\n",
      "1        1     one       yī     uno\n",
      "2        2     two       èr     dos\n",
      "3        3   three      sān    tres\n",
      "4        4    four       sì  cuatro\n",
      "5        5    five       wǔ   cinco\n"
     ]
    }
   ],
   "source": [
    "print(df_loc)"
   ]
  },
  {
   "cell_type": "markdown",
   "metadata": {},
   "source": [
    "By default, all columns are returned but you can choose which column(s) are displayed."
   ]
  },
  {
   "cell_type": "code",
   "execution_count": 6,
   "metadata": {},
   "outputs": [],
   "source": [
    "df_loc1b = df_count.loc[df_count['Integer'] > 0, ['English']]"
   ]
  },
  {
   "cell_type": "code",
   "execution_count": 7,
   "metadata": {},
   "outputs": [
    {
     "name": "stdout",
     "output_type": "stream",
     "text": [
      "  English\n",
      "1     one\n",
      "2     two\n",
      "3   three\n",
      "4    four\n",
      "5    five\n"
     ]
    }
   ],
   "source": [
    "print(df_loc1b)"
   ]
  },
  {
   "cell_type": "markdown",
   "metadata": {},
   "source": [
    "As it is primarily 'label'-based, you can specify a 'range' of columns."
   ]
  },
  {
   "cell_type": "code",
   "execution_count": 8,
   "metadata": {},
   "outputs": [],
   "source": [
    "df_loc1c = df_count.loc[df_count['Integer'] > 0, 'Integer':'English']"
   ]
  },
  {
   "cell_type": "code",
   "execution_count": 9,
   "metadata": {},
   "outputs": [
    {
     "name": "stdout",
     "output_type": "stream",
     "text": [
      "   Integer English\n",
      "1        1     one\n",
      "2        2     two\n",
      "3        3   three\n",
      "4        4    four\n",
      "5        5    five\n"
     ]
    }
   ],
   "source": [
    "print(df_loc1c)"
   ]
  },
  {
   "cell_type": "markdown",
   "metadata": {},
   "source": [
    "You can specify which rows to returns 'directly' instead of a 'condition'."
   ]
  },
  {
   "cell_type": "code",
   "execution_count": 10,
   "metadata": {},
   "outputs": [],
   "source": [
    "df_loc2 = df_count.loc[1:5]"
   ]
  },
  {
   "cell_type": "code",
   "execution_count": 11,
   "metadata": {},
   "outputs": [
    {
     "name": "stdout",
     "output_type": "stream",
     "text": [
      "   Integer English Mandarin Spanish\n",
      "1        1     one       yī     uno\n",
      "2        2     two       èr     dos\n",
      "3        3   three      sān    tres\n",
      "4        4    four       sì  cuatro\n",
      "5        5    five       wǔ   cinco\n"
     ]
    }
   ],
   "source": [
    "print(df_loc2)"
   ]
  },
  {
   "cell_type": "code",
   "execution_count": 12,
   "metadata": {},
   "outputs": [],
   "source": [
    "df_loc2b = df_count.loc[1:5, 'English']"
   ]
  },
  {
   "cell_type": "code",
   "execution_count": 13,
   "metadata": {},
   "outputs": [
    {
     "name": "stdout",
     "output_type": "stream",
     "text": [
      "1      one\n",
      "2      two\n",
      "3    three\n",
      "4     four\n",
      "5     five\n",
      "Name: English, dtype: object \n",
      " <class 'pandas.core.series.Series'>\n"
     ]
    }
   ],
   "source": [
    "print(df_loc2b, '\\n', type(df_loc2b))"
   ]
  },
  {
   "cell_type": "markdown",
   "metadata": {},
   "source": [
    "NOTE: If you specify it this way (and not like previously), the label because it's been transformed into a Series."
   ]
  },
  {
   "cell_type": "code",
   "execution_count": 17,
   "metadata": {},
   "outputs": [
    {
     "name": "stdout",
     "output_type": "stream",
     "text": [
      "1      one\n",
      "2      two\n",
      "3    three\n",
      "4     four\n",
      "5     five\n",
      "Name: English, dtype: object\n"
     ]
    }
   ],
   "source": [
    "print(df_loc2b)"
   ]
  },
  {
   "cell_type": "code",
   "execution_count": 18,
   "metadata": {},
   "outputs": [],
   "source": [
    "df_loc2c = df_count.loc[1:5, 'Integer':'English']"
   ]
  },
  {
   "cell_type": "code",
   "execution_count": 19,
   "metadata": {},
   "outputs": [
    {
     "name": "stdout",
     "output_type": "stream",
     "text": [
      "   Integer English\n",
      "1        1     one\n",
      "2        2     two\n",
      "3        3   three\n",
      "4        4    four\n",
      "5        5    five\n"
     ]
    }
   ],
   "source": [
    "print(df_loc2c)"
   ]
  },
  {
   "cell_type": "markdown",
   "metadata": {},
   "source": [
    "**iloc** is integer based."
   ]
  },
  {
   "cell_type": "code",
   "execution_count": 48,
   "metadata": {},
   "outputs": [],
   "source": [
    "df_iloc = df_count.iloc[0]"
   ]
  },
  {
   "cell_type": "code",
   "execution_count": 49,
   "metadata": {},
   "outputs": [
    {
     "name": "stdout",
     "output_type": "stream",
     "text": [
      "Integer        0\n",
      "English     zero\n",
      "Mandarin    líng\n",
      "Spanish     cero\n",
      "Name: 0, dtype: object \n",
      " <class 'pandas.core.series.Series'>\n"
     ]
    }
   ],
   "source": [
    "print(df_iloc, '\\n', type(df_iloc))"
   ]
  },
  {
   "cell_type": "markdown",
   "metadata": {},
   "source": [
    "NOTE: Essentially, it returns a 'cross-section'that is a Series."
   ]
  },
  {
   "cell_type": "code",
   "execution_count": 58,
   "metadata": {},
   "outputs": [],
   "source": [
    "df_iloc2 = df_count.iloc[1:6]"
   ]
  },
  {
   "cell_type": "code",
   "execution_count": 59,
   "metadata": {},
   "outputs": [
    {
     "name": "stdout",
     "output_type": "stream",
     "text": [
      "   Integer English Mandarin Spanish\n",
      "1        1     one       yī     uno\n",
      "2        2     two       èr     dos\n",
      "3        3   three      sān    tres\n",
      "4        4    four       sì  cuatro\n",
      "5        5    five       wǔ   cinco\n"
     ]
    }
   ],
   "source": [
    "print(df_iloc2)"
   ]
  },
  {
   "cell_type": "code",
   "execution_count": 64,
   "metadata": {},
   "outputs": [],
   "source": [
    "df_iloc2b = df_count.iloc[5:7]"
   ]
  },
  {
   "cell_type": "code",
   "execution_count": 65,
   "metadata": {},
   "outputs": [
    {
     "name": "stdout",
     "output_type": "stream",
     "text": [
      "   Integer English Mandarin Spanish\n",
      "5        5    five       wǔ   cinco\n"
     ]
    }
   ],
   "source": [
    "print(df_iloc2b)"
   ]
  },
  {
   "cell_type": "code",
   "execution_count": 66,
   "metadata": {},
   "outputs": [],
   "source": [
    "df_iloc2c = df_count.iloc[6:7]"
   ]
  },
  {
   "cell_type": "code",
   "execution_count": 67,
   "metadata": {},
   "outputs": [
    {
     "name": "stdout",
     "output_type": "stream",
     "text": [
      "Empty DataFrame\n",
      "Columns: [Integer, English, Mandarin, Spanish]\n",
      "Index: []\n"
     ]
    }
   ],
   "source": [
    "print(df_iloc2c)"
   ]
  },
  {
   "cell_type": "markdown",
   "metadata": {},
   "source": [
    "PROGRAMMING TIP: It allows for 'out-of-bounds' or empty DataFrames so be careful as errors can easily occur."
   ]
  },
  {
   "cell_type": "code",
   "execution_count": 52,
   "metadata": {},
   "outputs": [],
   "source": [
    "df_iloc3 = df_count.iloc[1:6, 1]"
   ]
  },
  {
   "cell_type": "code",
   "execution_count": 53,
   "metadata": {},
   "outputs": [
    {
     "name": "stdout",
     "output_type": "stream",
     "text": [
      "1      one\n",
      "2      two\n",
      "3    three\n",
      "4     four\n",
      "5     five\n",
      "Name: English, dtype: object \n",
      " <class 'pandas.core.series.Series'>\n"
     ]
    }
   ],
   "source": [
    "print(df_iloc3, '\\n', type(df_iloc3))"
   ]
  },
  {
   "cell_type": "markdown",
   "metadata": {},
   "source": [
    "NOTE: When you indicate only a sigle column, a DataFrame is transformed into a Series."
   ]
  },
  {
   "cell_type": "code",
   "execution_count": 54,
   "metadata": {},
   "outputs": [],
   "source": [
    "df_iloc3b = df_count.iloc[1:6, 0:2]"
   ]
  },
  {
   "cell_type": "code",
   "execution_count": 55,
   "metadata": {},
   "outputs": [
    {
     "name": "stdout",
     "output_type": "stream",
     "text": [
      "   Integer English\n",
      "1        1     one\n",
      "2        2     two\n",
      "3        3   three\n",
      "4        4    four\n",
      "5        5    five\n"
     ]
    }
   ],
   "source": [
    "print(df_iloc3b)"
   ]
  },
  {
   "cell_type": "markdown",
   "metadata": {},
   "source": [
    "NOTE:  Remember that the last index isn't included."
   ]
  },
  {
   "cell_type": "markdown",
   "metadata": {},
   "source": [
    "You can use this to reference a specific \"cell\""
   ]
  },
  {
   "cell_type": "code",
   "execution_count": 56,
   "metadata": {},
   "outputs": [],
   "source": [
    "df_iloc4 = df_count.iloc[0, 0]"
   ]
  },
  {
   "cell_type": "code",
   "execution_count": 57,
   "metadata": {},
   "outputs": [
    {
     "name": "stdout",
     "output_type": "stream",
     "text": [
      "0\n"
     ]
    }
   ],
   "source": [
    "print(df_iloc4)"
   ]
  },
  {
   "cell_type": "markdown",
   "metadata": {},
   "source": [
    "**loc** and **iloc** are different forms of 'slicing' using indeces."
   ]
  },
  {
   "cell_type": "code",
   "execution_count": null,
   "metadata": {},
   "outputs": [],
   "source": []
  }
 ],
 "metadata": {
  "kernelspec": {
   "display_name": "Python",
   "language": "python",
   "name": "conda-env-python-py"
  },
  "language_info": {
   "codemirror_mode": {
    "name": "ipython",
    "version": 3
   },
   "file_extension": ".py",
   "mimetype": "text/x-python",
   "name": "python",
   "nbconvert_exporter": "python",
   "pygments_lexer": "ipython3",
   "version": "3.6.7"
  }
 },
 "nbformat": 4,
 "nbformat_minor": 4
}
