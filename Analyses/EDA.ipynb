{
 "cells": [
  {
   "cell_type": "markdown",
   "metadata": {},
   "source": [
    "## Exploratory Data Analysis (EDA)\n",
    "\n",
    "The initial step of EDA (and everyone has their own sequence of steps) is managing or \"Wrangling\" data (e.g. preprocessing, organising, and summarising data).  This can involves \"cleaning\" tasks such as eliminating rows or columns with nulls (NaNs, Not a Number sometimes for Python numeric data types - this sometimes is \"meaningful\" substitution of \"blank\" values instead of simple eradication), \"one-hot encoding\"(somtimes referred to by the initialism OHE) to change categorical data to ordinals to allow it to be included in computations (primarily for ML), \"rescaling\" numbers for tehe sake of increasing effectiveness, or other \"transformations\" of data to aid processing or avoid errors down the line. Organising actions covers things like reducing it to certain rows or columns (of course, there needs to be a \"method to the madness\"). \"subdividing\" the dataset into more \"manageable chunks\" for things such as viewing (often print outs), or practicalities as \"reindexing\" (in case, they are missing, colunmns need to be added, or any changes dictated by how the data is planned to be used).  Summarising may comprise Descriptive Statistics (somtimes a Python method like *describe* is used assuming you've loaded it into a DataFrame) to get measures of central tendency or variability (spread), visualisations, or some combination of these to try and understand the data. At times, it may be useful to look at the distrubuttion (i.e. count and frequency - visually through a histogram)  or range (i.e. miniumum, maximum, and quartiles relaive to the mean - visually through a box plot or box & whisker diagram). Kindly refer to: https://github.com/LinsAbadia/Python/blob/master/Statistics/Descriptive.ipynb for more information in doing summaries using Descriptive Statistics.\n",
    "\n",
    "Generally, EDA is performed to help answer a question of interest. More often than not, this is a research question in academic circles.\n",
    "\n",
    "This is partly based on the Wesleyan Coursera Week 2/3 module on Data Management and Visualization (https://www.coursera.org/learn/data-visualization/home/week/2)"
   ]
  },
  {
   "cell_type": "code",
   "execution_count": 55,
   "metadata": {},
   "outputs": [
    {
     "name": "stdout",
     "output_type": "stream",
     "text": [
      "       a   b   c\n",
      "0     66  92  98\n",
      "1     17  83  57\n",
      "2     86  97  96\n",
      "3     47  73  32\n",
      "4     46  96  25\n",
      "...   ..  ..  ..\n",
      "1019  35  70  65\n",
      "1020  65  84  75\n",
      "1021  11  41   3\n",
      "1022  35  54  38\n",
      "1023   4  54  25\n",
      "\n",
      "[1024 rows x 3 columns]\n"
     ]
    }
   ],
   "source": [
    "import pandas as pd\n",
    "import numpy as np\n",
    "\n",
    "np.random.seed(123) #I am using seed so that the random generator always produces the same results and you can see similar outputs\n",
    "\n",
    "dataset = pd.DataFrame(np.random.randint(0,100,size=(1024, 3)), columns= list('abc')) #we generate random numbers so we have a DataFrame\n",
    "\n",
    "print(dataset)\n"
   ]
  },
  {
   "cell_type": "code",
   "execution_count": 56,
   "metadata": {},
   "outputs": [
    {
     "data": {
      "text/html": [
       "<div>\n",
       "<style scoped>\n",
       "    .dataframe tbody tr th:only-of-type {\n",
       "        vertical-align: middle;\n",
       "    }\n",
       "\n",
       "    .dataframe tbody tr th {\n",
       "        vertical-align: top;\n",
       "    }\n",
       "\n",
       "    .dataframe thead th {\n",
       "        text-align: right;\n",
       "    }\n",
       "</style>\n",
       "<table border=\"1\" class=\"dataframe\">\n",
       "  <thead>\n",
       "    <tr style=\"text-align: right;\">\n",
       "      <th></th>\n",
       "      <th>a</th>\n",
       "      <th>b</th>\n",
       "      <th>c</th>\n",
       "    </tr>\n",
       "  </thead>\n",
       "  <tbody>\n",
       "    <tr>\n",
       "      <th>count</th>\n",
       "      <td>1024.000000</td>\n",
       "      <td>1024.000000</td>\n",
       "      <td>1024.000000</td>\n",
       "    </tr>\n",
       "    <tr>\n",
       "      <th>mean</th>\n",
       "      <td>48.681641</td>\n",
       "      <td>49.978516</td>\n",
       "      <td>49.041016</td>\n",
       "    </tr>\n",
       "    <tr>\n",
       "      <th>std</th>\n",
       "      <td>29.409407</td>\n",
       "      <td>29.162295</td>\n",
       "      <td>28.976889</td>\n",
       "    </tr>\n",
       "    <tr>\n",
       "      <th>min</th>\n",
       "      <td>0.000000</td>\n",
       "      <td>0.000000</td>\n",
       "      <td>0.000000</td>\n",
       "    </tr>\n",
       "    <tr>\n",
       "      <th>25%</th>\n",
       "      <td>23.000000</td>\n",
       "      <td>24.000000</td>\n",
       "      <td>23.000000</td>\n",
       "    </tr>\n",
       "    <tr>\n",
       "      <th>50%</th>\n",
       "      <td>48.000000</td>\n",
       "      <td>50.000000</td>\n",
       "      <td>48.500000</td>\n",
       "    </tr>\n",
       "    <tr>\n",
       "      <th>75%</th>\n",
       "      <td>74.250000</td>\n",
       "      <td>76.250000</td>\n",
       "      <td>75.000000</td>\n",
       "    </tr>\n",
       "    <tr>\n",
       "      <th>max</th>\n",
       "      <td>99.000000</td>\n",
       "      <td>99.000000</td>\n",
       "      <td>99.000000</td>\n",
       "    </tr>\n",
       "  </tbody>\n",
       "</table>\n",
       "</div>"
      ],
      "text/plain": [
       "                 a            b            c\n",
       "count  1024.000000  1024.000000  1024.000000\n",
       "mean     48.681641    49.978516    49.041016\n",
       "std      29.409407    29.162295    28.976889\n",
       "min       0.000000     0.000000     0.000000\n",
       "25%      23.000000    24.000000    23.000000\n",
       "50%      48.000000    50.000000    48.500000\n",
       "75%      74.250000    76.250000    75.000000\n",
       "max      99.000000    99.000000    99.000000"
      ]
     },
     "execution_count": 56,
     "metadata": {},
     "output_type": "execute_result"
    }
   ],
   "source": [
    "dataset.describe()"
   ]
  },
  {
   "cell_type": "code",
   "execution_count": 57,
   "metadata": {},
   "outputs": [
    {
     "name": "stdout",
     "output_type": "stream",
     "text": [
      "<class 'pandas.core.frame.DataFrame'>\n",
      "RangeIndex: 1024 entries, 0 to 1023\n",
      "Data columns (total 3 columns):\n",
      " #   Column  Non-Null Count  Dtype\n",
      "---  ------  --------------  -----\n",
      " 0   a       1024 non-null   int64\n",
      " 1   b       1024 non-null   int64\n",
      " 2   c       1024 non-null   int64\n",
      "dtypes: int64(3)\n",
      "memory usage: 24.1 KB\n"
     ]
    }
   ],
   "source": [
    "dataset.info()"
   ]
  },
  {
   "cell_type": "code",
   "execution_count": 58,
   "metadata": {},
   "outputs": [],
   "source": [
    "data = dataset[dataset['a'] > dataset['a'].mean()]#truncate the dataset based on desired criteria"
   ]
  },
  {
   "cell_type": "code",
   "execution_count": 59,
   "metadata": {},
   "outputs": [
    {
     "data": {
      "text/html": [
       "<div>\n",
       "<style scoped>\n",
       "    .dataframe tbody tr th:only-of-type {\n",
       "        vertical-align: middle;\n",
       "    }\n",
       "\n",
       "    .dataframe tbody tr th {\n",
       "        vertical-align: top;\n",
       "    }\n",
       "\n",
       "    .dataframe thead th {\n",
       "        text-align: right;\n",
       "    }\n",
       "</style>\n",
       "<table border=\"1\" class=\"dataframe\">\n",
       "  <thead>\n",
       "    <tr style=\"text-align: right;\">\n",
       "      <th></th>\n",
       "      <th>a</th>\n",
       "      <th>b</th>\n",
       "      <th>c</th>\n",
       "    </tr>\n",
       "  </thead>\n",
       "  <tbody>\n",
       "    <tr>\n",
       "      <th>count</th>\n",
       "      <td>508.000000</td>\n",
       "      <td>508.000000</td>\n",
       "      <td>508.000000</td>\n",
       "    </tr>\n",
       "    <tr>\n",
       "      <th>mean</th>\n",
       "      <td>74.521654</td>\n",
       "      <td>51.403543</td>\n",
       "      <td>48.822835</td>\n",
       "    </tr>\n",
       "    <tr>\n",
       "      <th>std</th>\n",
       "      <td>14.972214</td>\n",
       "      <td>29.037019</td>\n",
       "      <td>29.871588</td>\n",
       "    </tr>\n",
       "    <tr>\n",
       "      <th>min</th>\n",
       "      <td>49.000000</td>\n",
       "      <td>0.000000</td>\n",
       "      <td>0.000000</td>\n",
       "    </tr>\n",
       "    <tr>\n",
       "      <th>25%</th>\n",
       "      <td>61.750000</td>\n",
       "      <td>26.000000</td>\n",
       "      <td>22.000000</td>\n",
       "    </tr>\n",
       "    <tr>\n",
       "      <th>50%</th>\n",
       "      <td>75.000000</td>\n",
       "      <td>51.000000</td>\n",
       "      <td>48.000000</td>\n",
       "    </tr>\n",
       "    <tr>\n",
       "      <th>75%</th>\n",
       "      <td>87.000000</td>\n",
       "      <td>78.000000</td>\n",
       "      <td>75.000000</td>\n",
       "    </tr>\n",
       "    <tr>\n",
       "      <th>max</th>\n",
       "      <td>99.000000</td>\n",
       "      <td>99.000000</td>\n",
       "      <td>99.000000</td>\n",
       "    </tr>\n",
       "  </tbody>\n",
       "</table>\n",
       "</div>"
      ],
      "text/plain": [
       "                a           b           c\n",
       "count  508.000000  508.000000  508.000000\n",
       "mean    74.521654   51.403543   48.822835\n",
       "std     14.972214   29.037019   29.871588\n",
       "min     49.000000    0.000000    0.000000\n",
       "25%     61.750000   26.000000   22.000000\n",
       "50%     75.000000   51.000000   48.000000\n",
       "75%     87.000000   78.000000   75.000000\n",
       "max     99.000000   99.000000   99.000000"
      ]
     },
     "execution_count": 59,
     "metadata": {},
     "output_type": "execute_result"
    }
   ],
   "source": [
    "data.describe()"
   ]
  },
  {
   "cell_type": "markdown",
   "metadata": {},
   "source": [
    "It is sometimes \"obvious\" to spot patterns visually but ocassionally when there are \"a lot\" of observations you'll need to leverage tools (e.g. spreadsheet, statistical packages, programatically through software, etc.) as machines can detect what can't be observed by the \"naked\" human eye.   To reduce complexity (as well as reduce execution time), it is often necessary to remove some columns (i.e. features) that appear to contribute little \"value-added\".  This, in effect, increases the \"weight\" of \"important\" features.  Moreover for the sake of readability, you migth rename a column as \"data dictionaries/codebooks\" may not be easily accessible.  Feature engineering tasks such as these can eventually help with the developed model's \"performance.\" "
   ]
  },
  {
   "cell_type": "code",
   "execution_count": 60,
   "metadata": {},
   "outputs": [
    {
     "name": "stdout",
     "output_type": "stream",
     "text": [
      "            Var A       Var B       Var C\n",
      "count  508.000000  508.000000  508.000000\n",
      "mean    74.521654   51.403543   48.822835\n",
      "std     14.972214   29.037019   29.871588\n",
      "min     49.000000    0.000000    0.000000\n",
      "25%     61.750000   26.000000   22.000000\n",
      "50%     75.000000   51.000000   48.000000\n",
      "75%     87.000000   78.000000   75.000000\n",
      "max     99.000000   99.000000   99.000000\n"
     ]
    }
   ],
   "source": [
    "data.rename(columns={'a':'Var A', 'b':'Var B', 'c' : 'Var C'}, inplace = True)\n",
    "\n",
    "print(data.describe()) #I used print to get rid of the copy warning"
   ]
  },
  {
   "cell_type": "code",
   "execution_count": 61,
   "metadata": {},
   "outputs": [
    {
     "data": {
      "text/plain": [
       "count    508.000000\n",
       "mean      74.521654\n",
       "std       14.972214\n",
       "min       49.000000\n",
       "25%       61.750000\n",
       "50%       75.000000\n",
       "75%       87.000000\n",
       "max       99.000000\n",
       "Name: Var A, dtype: float64"
      ]
     },
     "execution_count": 61,
     "metadata": {},
     "output_type": "execute_result"
    }
   ],
   "source": [
    "dataA = data['Var A']\n",
    "\n",
    "dataA.reindex() #reset index for Series; otherwise this will be inherited from the DataFrame \n",
    "\n",
    "dataA.describe()"
   ]
  },
  {
   "cell_type": "code",
   "execution_count": 62,
   "metadata": {},
   "outputs": [],
   "source": [
    "row = {'Var A': ['string'],'Var B':['string object'], 'Var C': ['string/object']}\n",
    "nonNumericRow = pd.DataFrame(row)"
   ]
  },
  {
   "cell_type": "code",
   "execution_count": 63,
   "metadata": {},
   "outputs": [
    {
     "name": "stdout",
     "output_type": "stream",
     "text": [
      "<class 'pandas.core.frame.DataFrame'> \n",
      "     Var A          Var B          Var C\n",
      "0  string  string object  string/object\n"
     ]
    }
   ],
   "source": [
    "print(type(nonNumericRow), '\\n' ,nonNumericRow) #verify correct data type and format"
   ]
  },
  {
   "cell_type": "code",
   "execution_count": 64,
   "metadata": {},
   "outputs": [],
   "source": [
    "data = pd.concat([data,nonNumericRow], ignore_index = True)"
   ]
  },
  {
   "cell_type": "code",
   "execution_count": 65,
   "metadata": {},
   "outputs": [],
   "source": [
    "blankRow = pd.Series(dtype = np.int64)  #the dtype parameter was added to elinate the \"new\" warning"
   ]
  },
  {
   "cell_type": "code",
   "execution_count": 66,
   "metadata": {},
   "outputs": [
    {
     "data": {
      "text/html": [
       "<div>\n",
       "<style scoped>\n",
       "    .dataframe tbody tr th:only-of-type {\n",
       "        vertical-align: middle;\n",
       "    }\n",
       "\n",
       "    .dataframe tbody tr th {\n",
       "        vertical-align: top;\n",
       "    }\n",
       "\n",
       "    .dataframe thead th {\n",
       "        text-align: right;\n",
       "    }\n",
       "</style>\n",
       "<table border=\"1\" class=\"dataframe\">\n",
       "  <thead>\n",
       "    <tr style=\"text-align: right;\">\n",
       "      <th></th>\n",
       "      <th>Var A</th>\n",
       "      <th>Var B</th>\n",
       "      <th>Var C</th>\n",
       "    </tr>\n",
       "  </thead>\n",
       "  <tbody>\n",
       "    <tr>\n",
       "      <th>0</th>\n",
       "      <td>66</td>\n",
       "      <td>92</td>\n",
       "      <td>98</td>\n",
       "    </tr>\n",
       "    <tr>\n",
       "      <th>1</th>\n",
       "      <td>86</td>\n",
       "      <td>97</td>\n",
       "      <td>96</td>\n",
       "    </tr>\n",
       "    <tr>\n",
       "      <th>2</th>\n",
       "      <td>83</td>\n",
       "      <td>78</td>\n",
       "      <td>36</td>\n",
       "    </tr>\n",
       "    <tr>\n",
       "      <th>3</th>\n",
       "      <td>96</td>\n",
       "      <td>80</td>\n",
       "      <td>68</td>\n",
       "    </tr>\n",
       "    <tr>\n",
       "      <th>4</th>\n",
       "      <td>49</td>\n",
       "      <td>55</td>\n",
       "      <td>67</td>\n",
       "    </tr>\n",
       "    <tr>\n",
       "      <th>...</th>\n",
       "      <td>...</td>\n",
       "      <td>...</td>\n",
       "      <td>...</td>\n",
       "    </tr>\n",
       "    <tr>\n",
       "      <th>505</th>\n",
       "      <td>67</td>\n",
       "      <td>4</td>\n",
       "      <td>25</td>\n",
       "    </tr>\n",
       "    <tr>\n",
       "      <th>506</th>\n",
       "      <td>94</td>\n",
       "      <td>17</td>\n",
       "      <td>8</td>\n",
       "    </tr>\n",
       "    <tr>\n",
       "      <th>507</th>\n",
       "      <td>65</td>\n",
       "      <td>84</td>\n",
       "      <td>75</td>\n",
       "    </tr>\n",
       "    <tr>\n",
       "      <th>508</th>\n",
       "      <td>string</td>\n",
       "      <td>string object</td>\n",
       "      <td>string/object</td>\n",
       "    </tr>\n",
       "    <tr>\n",
       "      <th>509</th>\n",
       "      <td>NaN</td>\n",
       "      <td>NaN</td>\n",
       "      <td>NaN</td>\n",
       "    </tr>\n",
       "  </tbody>\n",
       "</table>\n",
       "<p>510 rows × 3 columns</p>\n",
       "</div>"
      ],
      "text/plain": [
       "      Var A          Var B          Var C\n",
       "0        66             92             98\n",
       "1        86             97             96\n",
       "2        83             78             36\n",
       "3        96             80             68\n",
       "4        49             55             67\n",
       "..      ...            ...            ...\n",
       "505      67              4             25\n",
       "506      94             17              8\n",
       "507      65             84             75\n",
       "508  string  string object  string/object\n",
       "509     NaN            NaN            NaN\n",
       "\n",
       "[510 rows x 3 columns]"
      ]
     },
     "execution_count": 66,
     "metadata": {},
     "output_type": "execute_result"
    }
   ],
   "source": [
    "data.append(blankRow, ignore_index = True)"
   ]
  },
  {
   "cell_type": "code",
   "execution_count": 67,
   "metadata": {},
   "outputs": [
    {
     "name": "stdout",
     "output_type": "stream",
     "text": [
      "<class 'pandas.core.frame.DataFrame'>\n",
      "RangeIndex: 509 entries, 0 to 508\n",
      "Data columns (total 3 columns):\n",
      " #   Column  Non-Null Count  Dtype \n",
      "---  ------  --------------  ----- \n",
      " 0   Var A   509 non-null    object\n",
      " 1   Var B   509 non-null    object\n",
      " 2   Var C   509 non-null    object\n",
      "dtypes: object(3)\n",
      "memory usage: 12.1+ KB\n"
     ]
    }
   ],
   "source": [
    "data.info()"
   ]
  },
  {
   "cell_type": "markdown",
   "metadata": {},
   "source": [
    "NOTE: Observe the non-null count"
   ]
  },
  {
   "cell_type": "markdown",
   "metadata": {},
   "source": [
    "EDA may involve Univariate Analysis: the particular statistical \"significance\" of a single variable (i.e. column or feature). The distribution of the variable can be represented by a frequency table: the count and percentage."
   ]
  },
  {
   "cell_type": "code",
   "execution_count": 68,
   "metadata": {},
   "outputs": [
    {
     "data": {
      "text/plain": [
       "string     1\n",
       "49        10\n",
       "50        13\n",
       "51         8\n",
       "52         8\n",
       "53        12\n",
       "54        10\n",
       "55         9\n",
       "56        11\n",
       "57         7\n",
       "58        16\n",
       "59        10\n",
       "60         9\n",
       "61         4\n",
       "62         9\n",
       "63        12\n",
       "64         6\n",
       "65         8\n",
       "66         8\n",
       "67         7\n",
       "68        11\n",
       "69        12\n",
       "70         6\n",
       "71        13\n",
       "72        12\n",
       "73         9\n",
       "74        12\n",
       "75         8\n",
       "76         8\n",
       "77        14\n",
       "78        10\n",
       "79         6\n",
       "80        10\n",
       "81        12\n",
       "82         6\n",
       "83        13\n",
       "84        17\n",
       "85         8\n",
       "86        12\n",
       "87         8\n",
       "88         7\n",
       "89        11\n",
       "90         9\n",
       "91        13\n",
       "92         7\n",
       "93         9\n",
       "94        13\n",
       "95         7\n",
       "96         9\n",
       "97        14\n",
       "98        10\n",
       "99        15\n",
       "Name: Var A, dtype: int64"
      ]
     },
     "execution_count": 68,
     "metadata": {},
     "output_type": "execute_result"
    }
   ],
   "source": [
    "data['Var A'].value_counts(sort=False) #these generate frequency counts, sorting is disabled otherwise the values are displayed according to number of instances"
   ]
  },
  {
   "cell_type": "code",
   "execution_count": 69,
   "metadata": {},
   "outputs": [
    {
     "data": {
      "text/plain": [
       "49    10\n",
       "50    13\n",
       "51     8\n",
       "52     8\n",
       "53    12\n",
       "54    10\n",
       "55     9\n",
       "56    11\n",
       "57     7\n",
       "58    16\n",
       "59    10\n",
       "60     9\n",
       "61     4\n",
       "62     9\n",
       "63    12\n",
       "64     6\n",
       "65     8\n",
       "66     8\n",
       "67     7\n",
       "68    11\n",
       "69    12\n",
       "70     6\n",
       "71    13\n",
       "72    12\n",
       "73     9\n",
       "74    12\n",
       "75     8\n",
       "76     8\n",
       "77    14\n",
       "78    10\n",
       "79     6\n",
       "80    10\n",
       "81    12\n",
       "82     6\n",
       "83    13\n",
       "84    17\n",
       "85     8\n",
       "86    12\n",
       "87     8\n",
       "88     7\n",
       "89    11\n",
       "90     9\n",
       "91    13\n",
       "92     7\n",
       "93     9\n",
       "94    13\n",
       "95     7\n",
       "96     9\n",
       "97    14\n",
       "98    10\n",
       "99    15\n",
       "Name: Var A, dtype: int64"
      ]
     },
     "execution_count": 69,
     "metadata": {},
     "output_type": "execute_result"
    }
   ],
   "source": [
    "dataA.value_counts(sort=False)"
   ]
  },
  {
   "cell_type": "code",
   "execution_count": 70,
   "metadata": {},
   "outputs": [
    {
     "data": {
      "text/plain": [
       "string    0.001965\n",
       "49        0.019646\n",
       "50        0.025540\n",
       "51        0.015717\n",
       "52        0.015717\n",
       "53        0.023576\n",
       "54        0.019646\n",
       "55        0.017682\n",
       "56        0.021611\n",
       "57        0.013752\n",
       "58        0.031434\n",
       "59        0.019646\n",
       "60        0.017682\n",
       "61        0.007859\n",
       "62        0.017682\n",
       "63        0.023576\n",
       "64        0.011788\n",
       "65        0.015717\n",
       "66        0.015717\n",
       "67        0.013752\n",
       "68        0.021611\n",
       "69        0.023576\n",
       "70        0.011788\n",
       "71        0.025540\n",
       "72        0.023576\n",
       "73        0.017682\n",
       "74        0.023576\n",
       "75        0.015717\n",
       "76        0.015717\n",
       "77        0.027505\n",
       "78        0.019646\n",
       "79        0.011788\n",
       "80        0.019646\n",
       "81        0.023576\n",
       "82        0.011788\n",
       "83        0.025540\n",
       "84        0.033399\n",
       "85        0.015717\n",
       "86        0.023576\n",
       "87        0.015717\n",
       "88        0.013752\n",
       "89        0.021611\n",
       "90        0.017682\n",
       "91        0.025540\n",
       "92        0.013752\n",
       "93        0.017682\n",
       "94        0.025540\n",
       "95        0.013752\n",
       "96        0.017682\n",
       "97        0.027505\n",
       "98        0.019646\n",
       "99        0.029470\n",
       "Name: Var A, dtype: float64"
      ]
     },
     "execution_count": 70,
     "metadata": {},
     "output_type": "execute_result"
    }
   ],
   "source": [
    "data['Var A'].value_counts(sort=False, normalize = True) #these generate frequency percentages"
   ]
  },
  {
   "cell_type": "code",
   "execution_count": 71,
   "metadata": {},
   "outputs": [
    {
     "data": {
      "text/plain": [
       "49    0.019685\n",
       "50    0.025591\n",
       "51    0.015748\n",
       "52    0.015748\n",
       "53    0.023622\n",
       "54    0.019685\n",
       "55    0.017717\n",
       "56    0.021654\n",
       "57    0.013780\n",
       "58    0.031496\n",
       "59    0.019685\n",
       "60    0.017717\n",
       "61    0.007874\n",
       "62    0.017717\n",
       "63    0.023622\n",
       "64    0.011811\n",
       "65    0.015748\n",
       "66    0.015748\n",
       "67    0.013780\n",
       "68    0.021654\n",
       "69    0.023622\n",
       "70    0.011811\n",
       "71    0.025591\n",
       "72    0.023622\n",
       "73    0.017717\n",
       "74    0.023622\n",
       "75    0.015748\n",
       "76    0.015748\n",
       "77    0.027559\n",
       "78    0.019685\n",
       "79    0.011811\n",
       "80    0.019685\n",
       "81    0.023622\n",
       "82    0.011811\n",
       "83    0.025591\n",
       "84    0.033465\n",
       "85    0.015748\n",
       "86    0.023622\n",
       "87    0.015748\n",
       "88    0.013780\n",
       "89    0.021654\n",
       "90    0.017717\n",
       "91    0.025591\n",
       "92    0.013780\n",
       "93    0.017717\n",
       "94    0.025591\n",
       "95    0.013780\n",
       "96    0.017717\n",
       "97    0.027559\n",
       "98    0.019685\n",
       "99    0.029528\n",
       "Name: Var A, dtype: float64"
      ]
     },
     "execution_count": 71,
     "metadata": {},
     "output_type": "execute_result"
    }
   ],
   "source": [
    "dataA.value_counts(sort=False, normalize = True)"
   ]
  },
  {
   "cell_type": "markdown",
   "metadata": {},
   "source": [
    "* NOTE: dataA is transformed to a Series from a DataFrame as there is only a single column."
   ]
  },
  {
   "cell_type": "code",
   "execution_count": 72,
   "metadata": {},
   "outputs": [
    {
     "data": {
      "text/plain": [
       "0       66\n",
       "2       86\n",
       "5       83\n",
       "6       96\n",
       "7       49\n",
       "        ..\n",
       "1012    56\n",
       "1013    89\n",
       "1014    67\n",
       "1015    94\n",
       "1020    65\n",
       "Name: Var A, Length: 508, dtype: Int64"
      ]
     },
     "execution_count": 72,
     "metadata": {},
     "output_type": "execute_result"
    }
   ],
   "source": [
    " dataA.convert_dtypes(convert_integer = True) #this is to eliminate non-numeric values - you might need to this as it may be treated as a string and presented in another way (e.g. \"1\" is followed by \"10\")  "
   ]
  },
  {
   "cell_type": "code",
   "execution_count": 73,
   "metadata": {},
   "outputs": [
    {
     "data": {
      "text/plain": [
       "49    10\n",
       "50    13\n",
       "51     8\n",
       "52     8\n",
       "53    12\n",
       "54    10\n",
       "55     9\n",
       "56    11\n",
       "57     7\n",
       "58    16\n",
       "59    10\n",
       "60     9\n",
       "61     4\n",
       "62     9\n",
       "63    12\n",
       "64     6\n",
       "65     8\n",
       "66     8\n",
       "67     7\n",
       "68    11\n",
       "69    12\n",
       "70     6\n",
       "71    13\n",
       "72    12\n",
       "73     9\n",
       "74    12\n",
       "75     8\n",
       "76     8\n",
       "77    14\n",
       "78    10\n",
       "79     6\n",
       "80    10\n",
       "81    12\n",
       "82     6\n",
       "83    13\n",
       "84    17\n",
       "85     8\n",
       "86    12\n",
       "87     8\n",
       "88     7\n",
       "89    11\n",
       "90     9\n",
       "91    13\n",
       "92     7\n",
       "93     9\n",
       "94    13\n",
       "95     7\n",
       "96     9\n",
       "97    14\n",
       "98    10\n",
       "99    15\n",
       "Name: Var A, dtype: int64"
      ]
     },
     "execution_count": 73,
     "metadata": {},
     "output_type": "execute_result"
    }
   ],
   "source": [
    "dataA.value_counts(sort = False, dropna = True)"
   ]
  },
  {
   "cell_type": "markdown",
   "metadata": {},
   "source": [
    "As most prrogramming languages are \"divergent\", sometimes there are different ways to accomplish the task.  \n",
    "for eample, instead of *value_counts* you van use *groupby*."
   ]
  },
  {
   "cell_type": "code",
   "execution_count": 74,
   "metadata": {},
   "outputs": [
    {
     "data": {
      "text/plain": [
       "Var A\n",
       "49        10\n",
       "50        13\n",
       "51         8\n",
       "52         8\n",
       "53        12\n",
       "54        10\n",
       "55         9\n",
       "56        11\n",
       "57         7\n",
       "58        16\n",
       "59        10\n",
       "60         9\n",
       "61         4\n",
       "62         9\n",
       "63        12\n",
       "64         6\n",
       "65         8\n",
       "66         8\n",
       "67         7\n",
       "68        11\n",
       "69        12\n",
       "70         6\n",
       "71        13\n",
       "72        12\n",
       "73         9\n",
       "74        12\n",
       "75         8\n",
       "76         8\n",
       "77        14\n",
       "78        10\n",
       "79         6\n",
       "80        10\n",
       "81        12\n",
       "82         6\n",
       "83        13\n",
       "84        17\n",
       "85         8\n",
       "86        12\n",
       "87         8\n",
       "88         7\n",
       "89        11\n",
       "90         9\n",
       "91        13\n",
       "92         7\n",
       "93         9\n",
       "94        13\n",
       "95         7\n",
       "96         9\n",
       "97        14\n",
       "98        10\n",
       "99        15\n",
       "string     1\n",
       "dtype: int64"
      ]
     },
     "execution_count": 74,
     "metadata": {},
     "output_type": "execute_result"
    }
   ],
   "source": [
    "data.groupby('Var A').size()"
   ]
  },
  {
   "cell_type": "code",
   "execution_count": 75,
   "metadata": {},
   "outputs": [
    {
     "data": {
      "text/plain": [
       "Var A\n",
       "49        10\n",
       "50        13\n",
       "51         8\n",
       "52         8\n",
       "53        12\n",
       "54        10\n",
       "55         9\n",
       "56        11\n",
       "57         7\n",
       "58        16\n",
       "59        10\n",
       "60         9\n",
       "61         4\n",
       "62         9\n",
       "63        12\n",
       "64         6\n",
       "65         8\n",
       "66         8\n",
       "67         7\n",
       "68        11\n",
       "69        12\n",
       "70         6\n",
       "71        13\n",
       "72        12\n",
       "73         9\n",
       "74        12\n",
       "75         8\n",
       "76         8\n",
       "77        14\n",
       "78        10\n",
       "79         6\n",
       "80        10\n",
       "81        12\n",
       "82         6\n",
       "83        13\n",
       "84        17\n",
       "85         8\n",
       "86        12\n",
       "87         8\n",
       "88         7\n",
       "89        11\n",
       "90         9\n",
       "91        13\n",
       "92         7\n",
       "93         9\n",
       "94        13\n",
       "95         7\n",
       "96         9\n",
       "97        14\n",
       "98        10\n",
       "99        15\n",
       "string     1\n",
       "dtype: int64"
      ]
     },
     "execution_count": 75,
     "metadata": {},
     "output_type": "execute_result"
    }
   ],
   "source": [
    "data.groupby('Var A').size()"
   ]
  },
  {
   "cell_type": "code",
   "execution_count": 76,
   "metadata": {},
   "outputs": [
    {
     "data": {
      "text/plain": [
       "Var A\n",
       "49        10\n",
       "50        13\n",
       "51         8\n",
       "52         8\n",
       "53        12\n",
       "54        10\n",
       "55         9\n",
       "56        11\n",
       "57         7\n",
       "58        16\n",
       "59        10\n",
       "60         9\n",
       "61         4\n",
       "62         9\n",
       "63        12\n",
       "64         6\n",
       "65         8\n",
       "66         8\n",
       "67         7\n",
       "68        11\n",
       "69        12\n",
       "70         6\n",
       "71        13\n",
       "72        12\n",
       "73         9\n",
       "74        12\n",
       "75         8\n",
       "76         8\n",
       "77        14\n",
       "78        10\n",
       "79         6\n",
       "80        10\n",
       "81        12\n",
       "82         6\n",
       "83        13\n",
       "84        17\n",
       "85         8\n",
       "86        12\n",
       "87         8\n",
       "88         7\n",
       "89        11\n",
       "90         9\n",
       "91        13\n",
       "92         7\n",
       "93         9\n",
       "94        13\n",
       "95         7\n",
       "96         9\n",
       "97        14\n",
       "98        10\n",
       "99        15\n",
       "string     1\n",
       "dtype: int64"
      ]
     },
     "execution_count": 76,
     "metadata": {},
     "output_type": "execute_result"
    }
   ],
   "source": [
    "data.groupby('Var A').size()"
   ]
  },
  {
   "cell_type": "code",
   "execution_count": 77,
   "metadata": {},
   "outputs": [
    {
     "data": {
      "text/plain": [
       "Var A\n",
       "49        10\n",
       "50        13\n",
       "51         8\n",
       "52         8\n",
       "53        12\n",
       "54        10\n",
       "55         9\n",
       "56        11\n",
       "57         7\n",
       "58        16\n",
       "59        10\n",
       "60         9\n",
       "61         4\n",
       "62         9\n",
       "63        12\n",
       "64         6\n",
       "65         8\n",
       "66         8\n",
       "67         7\n",
       "68        11\n",
       "69        12\n",
       "70         6\n",
       "71        13\n",
       "72        12\n",
       "73         9\n",
       "74        12\n",
       "75         8\n",
       "76         8\n",
       "77        14\n",
       "78        10\n",
       "79         6\n",
       "80        10\n",
       "81        12\n",
       "82         6\n",
       "83        13\n",
       "84        17\n",
       "85         8\n",
       "86        12\n",
       "87         8\n",
       "88         7\n",
       "89        11\n",
       "90         9\n",
       "91        13\n",
       "92         7\n",
       "93         9\n",
       "94        13\n",
       "95         7\n",
       "96         9\n",
       "97        14\n",
       "98        10\n",
       "99        15\n",
       "string     1\n",
       "dtype: int64"
      ]
     },
     "execution_count": 77,
     "metadata": {},
     "output_type": "execute_result"
    }
   ],
   "source": [
    "data.groupby('Var A').size()"
   ]
  },
  {
   "cell_type": "code",
   "execution_count": 78,
   "metadata": {},
   "outputs": [
    {
     "data": {
      "text/plain": [
       "Var A\n",
       "49        10\n",
       "50        13\n",
       "51         8\n",
       "52         8\n",
       "53        12\n",
       "54        10\n",
       "55         9\n",
       "56        11\n",
       "57         7\n",
       "58        16\n",
       "59        10\n",
       "60         9\n",
       "61         4\n",
       "62         9\n",
       "63        12\n",
       "64         6\n",
       "65         8\n",
       "66         8\n",
       "67         7\n",
       "68        11\n",
       "69        12\n",
       "70         6\n",
       "71        13\n",
       "72        12\n",
       "73         9\n",
       "74        12\n",
       "75         8\n",
       "76         8\n",
       "77        14\n",
       "78        10\n",
       "79         6\n",
       "80        10\n",
       "81        12\n",
       "82         6\n",
       "83        13\n",
       "84        17\n",
       "85         8\n",
       "86        12\n",
       "87         8\n",
       "88         7\n",
       "89        11\n",
       "90         9\n",
       "91        13\n",
       "92         7\n",
       "93         9\n",
       "94        13\n",
       "95         7\n",
       "96         9\n",
       "97        14\n",
       "98        10\n",
       "99        15\n",
       "string     1\n",
       "dtype: int64"
      ]
     },
     "execution_count": 78,
     "metadata": {},
     "output_type": "execute_result"
    }
   ],
   "source": [
    "data.groupby('Var A').size()"
   ]
  },
  {
   "cell_type": "code",
   "execution_count": 79,
   "metadata": {},
   "outputs": [
    {
     "name": "stdout",
     "output_type": "stream",
     "text": [
      "      Var A          Var B          Var C\n",
      "508  string  string object  string/object\n"
     ]
    }
   ],
   "source": [
    "print(data[data['Var A']=='string'])"
   ]
  },
  {
   "cell_type": "code",
   "execution_count": 80,
   "metadata": {},
   "outputs": [],
   "source": [
    "data['Var A'].replace(to_replace = 'string', value = np.nan, inplace=True)#ensure there are no non-numeric entries"
   ]
  },
  {
   "cell_type": "code",
   "execution_count": 81,
   "metadata": {},
   "outputs": [
    {
     "name": "stdout",
     "output_type": "stream",
     "text": [
      "Empty DataFrame\n",
      "Columns: [Var A, Var B, Var C]\n",
      "Index: []\n"
     ]
    }
   ],
   "source": [
    "print(data[data['Var A']=='string'])"
   ]
  },
  {
   "cell_type": "code",
   "execution_count": 85,
   "metadata": {},
   "outputs": [],
   "source": [
    "data.dropna(inplace = True) #remove \"null\" values; in the case of Python Nans"
   ]
  },
  {
   "cell_type": "code",
   "execution_count": 86,
   "metadata": {},
   "outputs": [
    {
     "data": {
      "text/plain": [
       "Var A\n",
       "49.0    1.968504\n",
       "50.0    2.559055\n",
       "51.0    1.574803\n",
       "52.0    1.574803\n",
       "53.0    2.362205\n",
       "54.0    1.968504\n",
       "55.0    1.771654\n",
       "56.0    2.165354\n",
       "57.0    1.377953\n",
       "58.0    3.149606\n",
       "59.0    1.968504\n",
       "60.0    1.771654\n",
       "61.0    0.787402\n",
       "62.0    1.771654\n",
       "63.0    2.362205\n",
       "64.0    1.181102\n",
       "65.0    1.574803\n",
       "66.0    1.574803\n",
       "67.0    1.377953\n",
       "68.0    2.165354\n",
       "69.0    2.362205\n",
       "70.0    1.181102\n",
       "71.0    2.559055\n",
       "72.0    2.362205\n",
       "73.0    1.771654\n",
       "74.0    2.362205\n",
       "75.0    1.574803\n",
       "76.0    1.574803\n",
       "77.0    2.755906\n",
       "78.0    1.968504\n",
       "79.0    1.181102\n",
       "80.0    1.968504\n",
       "81.0    2.362205\n",
       "82.0    1.181102\n",
       "83.0    2.559055\n",
       "84.0    3.346457\n",
       "85.0    1.574803\n",
       "86.0    2.362205\n",
       "87.0    1.574803\n",
       "88.0    1.377953\n",
       "89.0    2.165354\n",
       "90.0    1.771654\n",
       "91.0    2.559055\n",
       "92.0    1.377953\n",
       "93.0    1.771654\n",
       "94.0    2.559055\n",
       "95.0    1.377953\n",
       "96.0    1.771654\n",
       "97.0    2.755906\n",
       "98.0    1.968504\n",
       "99.0    2.952756\n",
       "dtype: float64"
      ]
     },
     "execution_count": 86,
     "metadata": {},
     "output_type": "execute_result"
    }
   ],
   "source": [
    "data.groupby('Var A').size() * 100 / len(data['Var A'])"
   ]
  },
  {
   "cell_type": "code",
   "execution_count": 83,
   "metadata": {},
   "outputs": [
    {
     "name": "stdout",
     "output_type": "stream",
     "text": [
      "Empty DataFrame\n",
      "Columns: [Var A, Var B, Var C]\n",
      "Index: []\n"
     ]
    }
   ],
   "source": [
    "print(data[data['Var A']=='string'])"
   ]
  },
  {
   "cell_type": "code",
   "execution_count": 84,
   "metadata": {},
   "outputs": [
    {
     "data": {
      "text/plain": [
       "Var A\n",
       "49.0    1.964637\n",
       "50.0    2.554028\n",
       "51.0    1.571709\n",
       "52.0    1.571709\n",
       "53.0    2.357564\n",
       "54.0    1.964637\n",
       "55.0    1.768173\n",
       "56.0    2.161100\n",
       "57.0    1.375246\n",
       "58.0    3.143418\n",
       "59.0    1.964637\n",
       "60.0    1.768173\n",
       "61.0    0.785855\n",
       "62.0    1.768173\n",
       "63.0    2.357564\n",
       "64.0    1.178782\n",
       "65.0    1.571709\n",
       "66.0    1.571709\n",
       "67.0    1.375246\n",
       "68.0    2.161100\n",
       "69.0    2.357564\n",
       "70.0    1.178782\n",
       "71.0    2.554028\n",
       "72.0    2.357564\n",
       "73.0    1.768173\n",
       "74.0    2.357564\n",
       "75.0    1.571709\n",
       "76.0    1.571709\n",
       "77.0    2.750491\n",
       "78.0    1.964637\n",
       "79.0    1.178782\n",
       "80.0    1.964637\n",
       "81.0    2.357564\n",
       "82.0    1.178782\n",
       "83.0    2.554028\n",
       "84.0    3.339882\n",
       "85.0    1.571709\n",
       "86.0    2.357564\n",
       "87.0    1.571709\n",
       "88.0    1.375246\n",
       "89.0    2.161100\n",
       "90.0    1.768173\n",
       "91.0    2.554028\n",
       "92.0    1.375246\n",
       "93.0    1.768173\n",
       "94.0    2.554028\n",
       "95.0    1.375246\n",
       "96.0    1.768173\n",
       "97.0    2.750491\n",
       "98.0    1.964637\n",
       "99.0    2.946955\n",
       "dtype: float64"
      ]
     },
     "execution_count": 84,
     "metadata": {},
     "output_type": "execute_result"
    }
   ],
   "source": [
    "data.groupby('Var A').size() * 100 / len(data['Var A'])"
   ]
  },
  {
   "cell_type": "markdown",
   "metadata": {},
   "source": [
    "Generally, this produces only \"intermediate\" insights so you probably need to iterate( that is, do it multiple times as you make \"refinements\") through various stages to arrive at an appropriate \"final\" finding "
   ]
  },
  {
   "cell_type": "code",
   "execution_count": null,
   "metadata": {},
   "outputs": [],
   "source": []
  }
 ],
 "metadata": {
  "kernelspec": {
   "display_name": "Python",
   "language": "python",
   "name": "conda-env-python-py"
  },
  "language_info": {
   "codemirror_mode": {
    "name": "ipython",
    "version": 3
   },
   "file_extension": ".py",
   "mimetype": "text/x-python",
   "name": "python",
   "nbconvert_exporter": "python",
   "pygments_lexer": "ipython3",
   "version": "3.6.7"
  }
 },
 "nbformat": 4,
 "nbformat_minor": 4
}
