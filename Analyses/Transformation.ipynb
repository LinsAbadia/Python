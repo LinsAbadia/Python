{
 "cells": [
  {
   "cell_type": "markdown",
   "metadata": {},
   "source": [
    "#### Transformation #####"
   ]
  },
  {
   "cell_type": "raw",
   "metadata": {},
   "source": [
    "Upon loading, some datasets need to be \"cleaned\" before any meaningful processing and analyses can be conducted. This might involve any of the following:"
   ]
  },
  {
   "cell_type": "markdown",
   "metadata": {},
   "source": [
    "1. Conversion.  This may involve \"recalibration\" to another \"similar\" unit-of-measurement or modifying it into some other metric enirely. You may want to update the value or insert a new column for the converted one.  In either case, you may want to set the _inplace_ parameter to _True_ if the \"changes\" are meant to be reflected in the same DataFrame (you need to consider whether an _insert_ or _append_ statement is needed) and not assisigned to a different one,"
   ]
  },
  {
   "cell_type": "markdown",
   "metadata": {},
   "source": [
    "2.  Replacement. You might need to substitute certain value(s) for something else (e.g. a different value with similar representation or a dictionary-based \"substitution\" - a character for another character(s); some kind of modication - trucation, rounding, or flooring; dealing with a special case such as an escape character, empty string, or null value - _NaN_ for numbers. I learned of _One-Hot Encoding_ (that is the \"tranformation\" of categrical values into biary vectors - to be discussed later on) in my _Machine Learning_ modules but I see no reason why statistical \"functions\" can't also make use of it (or generalise it to have any ordinal values and not purely just 1 or 0 like a _Lookup table_ in _Excel_)."
   ]
  },
  {
   "cell_type": "markdown",
   "metadata": {},
   "source": [
    " 3. Computaton.  Derived values may be needed (mostly stored as a separate column).  Depending on the \"formula\", this may involve values of \"cells\" in a single column or multiples ones, and"
   ]
  },
  {
   "cell_type": "markdown",
   "metadata": {},
   "source": [
    " 4. Elimination. Some data comes with a header or a footer. When you import from a CSV (Usually the file format of datasets), you can specify to have this stripped.  Moreover you can \"filter-out\" \"spurious\" data such as duplicate rows or those with \"blanK\" or does containg \"null\" \"cells\". Sometimes DataFrame \"slicing\" is necessary as not all rows may be relevant to the Exploratory Data Analses you're tasked to do or that interests you."
   ]
  },
  {
   "cell_type": "markdown",
   "metadata": {},
   "source": [
    "TIP: You want to \"write\" your DataFrame locally so that:"
   ]
  },
  {
   "cell_type": "markdown",
   "metadata": {},
   "source": [
    "1.  Convenience. You may not want to download the data each time (as most files are elsewhwhere on web) you rerun your code as some of them have \"numerous\" and may \"eat-up\" your internet quota or it may take some to get it all, "
   ]
  },
  {
   "cell_type": "markdown",
   "metadata": {},
   "source": [
    "2.  Speed. Generally, it is faster to load and run when you can get the data locally rather than externally, and"
   ]
  },
  {
   "cell_type": "markdown",
   "metadata": {},
   "source": [
    " 3.)  Flexibility. You can decide how to run it: you can split the dataset for \"faster\" execution or \"easier\" debugging; and some \"free\" sites have limits (usually reset daily) to certain APIs."
   ]
  },
  {
   "cell_type": "markdown",
   "metadata": {},
   "source": [
    "I'm still in several minds whether it would be more \"beneficial\" to give a \"toy\" example of each (like I did previously), a single more \"robust\" example referenced by \"most\" code, or both.  "
   ]
  }
 ],
 "metadata": {
  "kernelspec": {
   "display_name": "Python",
   "language": "python",
   "name": "conda-env-python-py"
  },
  "language_info": {
   "codemirror_mode": {
    "name": "ipython",
    "version": 3
   },
   "file_extension": ".py",
   "mimetype": "text/x-python",
   "name": "python",
   "nbconvert_exporter": "python",
   "pygments_lexer": "ipython3",
   "version": "3.6.7"
  }
 },
 "nbformat": 4,
 "nbformat_minor": 4
}
