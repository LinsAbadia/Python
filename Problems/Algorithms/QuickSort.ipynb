{
 "cells": [
  {
   "cell_type": "markdown",
   "metadata": {},
   "source": [
    "#### Quick Sort"
   ]
  },
  {
   "cell_type": "markdown",
   "metadata": {},
   "source": [
    "There are two main components of Quick Sort: Partitioining and Sorting. This is an in-place algorithm: meaning it is space efficient (since it limits the use of other variables - read as saving memory or storage.\n",
    "\n",
    "Like **Merge Sort** it is a _divide-and-conquer_ alrorithm: that is, it breaks problems into subproblems (https://www.khanacademy.org/computing/computer-science/algorithms/merge-sort/a/divide-and-conquer-algorithms). That's why it is suitable for recursion.\n",
    "\n",
    "As far as I'm aware, this was originally coceived by Tony Hoare, the British computer scientist.\n",
    "\n"
   ]
  },
  {
   "cell_type": "markdown",
   "metadata": {},
   "source": [
    "The code is based on:\n",
    "\n",
    "https://www.codementor.io/garethdwyer/quicksort-tutorial-python-implementation-with-line-by-line-explanation-p9h7jd3r6"
   ]
  },
  {
   "cell_type": "markdown",
   "metadata": {},
   "source": [
    "Here's a \"short\" YouTube video that explains partitioning \"simply\":\n",
    "\n",
    "https://www.youtube.com/watch?v=MZaf_9IZCrc"
   ]
  },
  {
   "cell_type": "markdown",
   "metadata": {},
   "source": [
    "_psuedocode_ is writing it in (usually) English to describe the steps of the algorithm.  **Caveat**:  English is not always the first (or a familiar) language to some programmers so other languages may be used to simplify the code for design and test purposes."
   ]
  },
  {
   "cell_type": "code",
   "execution_count": 1,
   "metadata": {},
   "outputs": [],
   "source": [
    "def partition(array, start, end):\n",
    "    indexSwap = indexMove = start # intialise all indices and set them to the starting point\n",
    "    while indexMove < end:  # traverse the array until the end is reached\n",
    "        if array[indexMove] <= array[end]: #if the value of the moving index from the array is less than or equivalent to the last item (i.e. pivot)\n",
    "            array[indexSwap], array[indexMove] = array[indexMove], array[indexSwap] # swap the contents of the array pointed to by the moving index and \"swapping\" index\n",
    "            indexSwap += 1\n",
    "        indexMove += 1\n",
    "    array[indexSwap], array[end] = array[end], array[indexSwap] # swap\n",
    "    return indexSwap"
   ]
  },
  {
   "cell_type": "markdown",
   "metadata": {},
   "source": [
    "*partition psuedocode*\n",
    "\n",
    "Initialisation:\n",
    "   use last element as the \"pivot\"\n",
    "   set both indices (i.e. moving and \"swapping\") to the first element\n",
    "   \n",
    "Execution:\n",
    "    while the moving index doesn't yet point to end of the array,\n",
    "         check if the content of the array at the moving index is greater than the pivot, then increment the moving index. \n",
    "         otherwise, increment \"swap\" index and then exchange contents pointed to by the \"swap\" and the moving index and afterwards \n",
    "             you increment the moving index\n",
    "             \n",
    "Result:\n",
    "    The pivot (i.e. middle value) and two subarrays: one with values less than or **EQUAL TO** the pivot and the other holding the greater elements."
   ]
  },
  {
   "cell_type": "code",
   "execution_count": 2,
   "metadata": {},
   "outputs": [],
   "source": [
    "def _qSort(array, start, end):\n",
    "    if start >= end: #check if the end of the list passed is encountred\n",
    "        return \n",
    "    pivotIndex = partition(array, start, end) # partition the list into two with the \"pivot\" in the middle (it started out as the last element of the list)\n",
    "    _qSort(array, start, pivotIndex-1) # recursive call to partition and sort \"smaller\" list\n",
    "    _qSort(array, pivotIndex+1, end)  # recursive call to partition and sort \"largerer\" list\n",
    "    \n",
    "    "
   ]
  },
  {
   "cell_type": "markdown",
   "metadata": {},
   "source": [
    "The recursion happens here for both resulting subarrays.  I've purposely left out the pseudocode becauase I made it a learning activity.  Your psuedocode may be in a different format - my approach has been influenced by how I was taught.  The point is: whatever leads you to understand the problem better. Being primarily auditory this suits me.  Somebody else might be visual and prefer graphical reprsentations that are traditional (e.g. graphs, trees, etc), contemporary (e.g. DFD, ERD, UML, etc.) or unconventional (e.g. mindmaps, etc.) - whatever \"floats your boat\".  Or it maybe a combination that \"gets you across the line.\n",
    "\n",
    "It was traditionally done beforehand but the timing might be more useful to you during the process.  As far as I'm concerned, regardless of when or what you use, understanding seems more important."
   ]
  },
  {
   "cell_type": "markdown",
   "metadata": {},
   "source": [
    "The \"_\" (single underscore) denotes a programmer cue/convention for a variable/method for internal use.  While generally not enforced by the interpreter, it is exempted by the \"*' wildcard when importing modules."
   ]
  },
  {
   "cell_type": "code",
   "execution_count": 3,
   "metadata": {},
   "outputs": [],
   "source": [
    "def quickSort(array):\n",
    "    _qSort(array, 0, len(array)-1)"
   ]
  },
  {
   "cell_type": "code",
   "execution_count": 8,
   "metadata": {},
   "outputs": [],
   "source": [
    "arrayInt = [10, 4, 6, 1, 9, 3, 7, 2, 8, 5]"
   ]
  },
  {
   "cell_type": "code",
   "execution_count": 9,
   "metadata": {},
   "outputs": [],
   "source": [
    "quickSort(arrayInt)"
   ]
  },
  {
   "cell_type": "code",
   "execution_count": 10,
   "metadata": {},
   "outputs": [
    {
     "data": {
      "text/plain": [
       "[1, 2, 3, 4, 5, 6, 7, 8, 9, 10]"
      ]
     },
     "execution_count": 10,
     "metadata": {},
     "output_type": "execute_result"
    }
   ],
   "source": [
    "arrayInt"
   ]
  },
  {
   "cell_type": "markdown",
   "metadata": {},
   "source": [
    "Check contents of array to see if they are sorted"
   ]
  },
  {
   "cell_type": "code",
   "execution_count": null,
   "metadata": {},
   "outputs": [],
   "source": []
  }
 ],
 "metadata": {
  "kernelspec": {
   "display_name": "Python",
   "language": "python",
   "name": "conda-env-python-py"
  },
  "language_info": {
   "codemirror_mode": {
    "name": "ipython",
    "version": 3
   },
   "file_extension": ".py",
   "mimetype": "text/x-python",
   "name": "python",
   "nbconvert_exporter": "python",
   "pygments_lexer": "ipython3",
   "version": "3.6.7"
  }
 },
 "nbformat": 4,
 "nbformat_minor": 4
}
