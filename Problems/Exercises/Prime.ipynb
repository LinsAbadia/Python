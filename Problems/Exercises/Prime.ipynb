{
 "cells": [
  {
   "cell_type": "markdown",
   "metadata": {},
   "source": [
    "####  Prime numbers"
   ]
  },
  {
   "cell_type": "code",
   "execution_count": 1,
   "metadata": {},
   "outputs": [],
   "source": [
    "keyboardInput = ''"
   ]
  },
  {
   "cell_type": "code",
   "execution_count": 2,
   "metadata": {},
   "outputs": [
    {
     "name": "stdin",
     "output_type": "stream",
     "text": [
      "Enter a positive whole number:  10\n"
     ]
    }
   ],
   "source": [
    "while (keyboardInput.isnumeric() == False):\n",
    "    keyboardInput = input(\"Enter a positive whole number: \")"
   ]
  },
  {
   "cell_type": "markdown",
   "metadata": {},
   "source": [
    "Note:  Depending on what you use to execute your code, you may need to restart the kernel so it will ask for the ketboard input again."
   ]
  },
  {
   "cell_type": "code",
   "execution_count": 4,
   "metadata": {},
   "outputs": [],
   "source": [
    "intKI = int(keyboardInput)"
   ]
  },
  {
   "cell_type": "code",
   "execution_count": 5,
   "metadata": {},
   "outputs": [
    {
     "data": {
      "text/plain": [
       "9"
      ]
     },
     "execution_count": 5,
     "metadata": {},
     "output_type": "execute_result"
    }
   ],
   "source": [
    "intKI"
   ]
  },
  {
   "cell_type": "code",
   "execution_count": 6,
   "metadata": {},
   "outputs": [],
   "source": [
    "def isPrime(number):\n",
    "    \n",
    "    if((number == 0) or (number == 1)):\n",
    "        return str(number) + \" is not a prime number based on the definition.\"\n",
    "    if((number == 4)):  # I put this case because of the way I structured range \n",
    "         return str(number) + \" is not a prime but a composite number.\"\n",
    "    for factor in range(2, number//2):  \n",
    "        \n",
    "        if (number % factor) == 0:\n",
    "            print(factor,\"is a factor\")\n",
    "            return str(number) + \" is not a prime but a composite number.\"\n",
    "    return str(number) + \" is a prime number\""
   ]
  },
  {
   "cell_type": "code",
   "execution_count": 7,
   "metadata": {},
   "outputs": [
    {
     "name": "stdout",
     "output_type": "stream",
     "text": [
      "3 is a factor\n",
      "9 is not a prime but a composite number.\n"
     ]
    }
   ],
   "source": [
    "print(isPrime(intKI))"
   ]
  },
  {
   "cell_type": "code",
   "execution_count": null,
   "metadata": {
    "jupyter": {
     "source_hidden": true
    }
   },
   "outputs": [],
   "source": []
  }
 ],
 "metadata": {
  "kernelspec": {
   "display_name": "Python",
   "language": "python",
   "name": "conda-env-python-py"
  },
  "language_info": {
   "codemirror_mode": {
    "name": "ipython",
    "version": 3
   },
   "file_extension": ".py",
   "mimetype": "text/x-python",
   "name": "python",
   "nbconvert_exporter": "python",
   "pygments_lexer": "ipython3",
   "version": "3.6.7"
  }
 },
 "nbformat": 4,
 "nbformat_minor": 4
}
