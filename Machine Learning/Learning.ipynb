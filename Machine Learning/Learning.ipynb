{
 "cells": [
  {
   "cell_type": "markdown",
   "metadata": {},
   "source": [
    "## Machine Learning (ML)\n",
    "\n",
    "Essentialy, ML is a form of *Artificial Intelligence (AI)* that allows a device to \"learn\" how to perform a task.   \n",
    "\n",
    "There are, basically, two general categories of ML;  *Supervised* and *Unsupervised*. \n",
    "\n",
    "\n",
    "#### Supervised Learning\n",
    "\n",
    "This involves the design, development, training (through the *fit* method), test, and deployment of a \"model\".  Typically, this involves several cycles (or iterations) to get right.  This \"model\" can be used to predict the desired output (and sometimes the probability) given an input (or set of inputs).  These \"labelled\" inputs (or features sometimes referred to as *X*, while the output (or target somtimes referred to as *y*).\n",
    "\n",
    "Current instances can be conidered as \"narrow\" aaplications (e.g. smart speakers, self-driving cars, etc.).  That is, built for a specific function (i.e. programmed). Therfore, \"unconsciuos bias\" can easily manifest itself.\n",
    "\n",
    "\n",
    "#### Unsupervised Learning\n",
    "\n",
    "This may also involve a \"model\" but it is not explicitly trained and instead it \"learns\" without intervention to detect patterns or clusters.  IMHO, technology isn't at a point yet of a \"dystopian\" singularity (which implies sentience and the \"general\" form of AI) as if it ever becomes reality this is where it is likelty to come from..  "
   ]
  },
  {
   "cell_type": "code",
   "execution_count": null,
   "metadata": {},
   "outputs": [],
   "source": []
  }
 ],
 "metadata": {
  "kernelspec": {
   "display_name": "Python",
   "language": "python",
   "name": "conda-env-python-py"
  },
  "language_info": {
   "codemirror_mode": {
    "name": "ipython",
    "version": 3
   },
   "file_extension": ".py",
   "mimetype": "text/x-python",
   "name": "python",
   "nbconvert_exporter": "python",
   "pygments_lexer": "ipython3",
   "version": "3.6.7"
  }
 },
 "nbformat": 4,
 "nbformat_minor": 4
}
