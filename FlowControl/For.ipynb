{
 "cells": [
  {
   "cell_type": "markdown",
   "metadata": {},
   "source": [
    "#### Flow Control\n",
    "\n",
    "Python supports conditional logic and \"branching\" so \"non-sequential\" execution of commands are possible."
   ]
  },
  {
   "cell_type": "markdown",
   "metadata": {},
   "source": [
    "There are two (2) types of iterations (or loops) available."
   ]
  },
  {
   "cell_type": "markdown",
   "metadata": {},
   "source": [
    "#### For"
   ]
  },
  {
   "cell_type": "code",
   "execution_count": 1,
   "metadata": {},
   "outputs": [],
   "source": [
    "seqTup = ('after', 'after','skip','after', 'after', 'skip','after', 'exit', 'none')"
   ]
  },
  {
   "cell_type": "code",
   "execution_count": 2,
   "metadata": {},
   "outputs": [
    {
     "name": "stdout",
     "output_type": "stream",
     "text": [
      "Before\n",
      "After\n",
      "End was reached!\n",
      "Before\n",
      "After\n",
      "End was reached!\n",
      "Before\n",
      "Continue\n",
      "Before\n",
      "After\n",
      "End was reached!\n",
      "Before\n",
      "After\n",
      "End was reached!\n",
      "Before\n",
      "Continue\n",
      "Before\n",
      "After\n",
      "End was reached!\n",
      "Before\n",
      "Break\n"
     ]
    }
   ],
   "source": [
    "for i in seqTup:\n",
    "    print(\"Before\")\n",
    "    if (i == \"after\"):\n",
    "        print(str(i).capitalize())\n",
    "    elif (i == \"skip\"):\n",
    "        print(\"Continue\")\n",
    "        continue\n",
    "    elif(i == \"exit\"):\n",
    "        print(\"Break\")\n",
    "        break\n",
    "    print(\"End was reached!\")\n",
    "    \n",
    "    "
   ]
  },
  {
   "cell_type": "markdown",
   "metadata": {},
   "source": [
    "_continue_ goes back to the \"start\" of the loop and skips all remaining code in the block; while _break_ immediately terminates the loop "
   ]
  },
  {
   "cell_type": "code",
   "execution_count": 3,
   "metadata": {},
   "outputs": [
    {
     "name": "stdout",
     "output_type": "stream",
     "text": [
      "0\n",
      "1\n",
      "2\n",
      "3\n"
     ]
    }
   ],
   "source": [
    "for i in range(4): # as range(1, 4, 1) was used in while\n",
    "    print(i)"
   ]
  },
  {
   "cell_type": "code",
   "execution_count": 4,
   "metadata": {},
   "outputs": [],
   "source": [
    "truthTableTwo = [(0, 0), (0, 1), (1, 0)]"
   ]
  },
  {
   "cell_type": "code",
   "execution_count": 5,
   "metadata": {},
   "outputs": [],
   "source": [
    "truthTableTwo.append((1, 1))"
   ]
  },
  {
   "cell_type": "code",
   "execution_count": 6,
   "metadata": {},
   "outputs": [
    {
     "name": "stdout",
     "output_type": "stream",
     "text": [
      "[(0, 0), (0, 1), (1, 0), (1, 1)]\n"
     ]
    }
   ],
   "source": [
    "print(truthTableTwo) "
   ]
  },
  {
   "cell_type": "markdown",
   "metadata": {
    "jupyter": {
     "source_hidden": true
    }
   },
   "source": [
    "Learning activity:  try replacing _append_ with _extend_ and note the difference."
   ]
  },
  {
   "cell_type": "code",
   "execution_count": 9,
   "metadata": {},
   "outputs": [
    {
     "name": "stdout",
     "output_type": "stream",
     "text": [
      "X:  0  Y:  0 X AND Y:  0  X OR Y:  0  X XOR Y:  0\n",
      "X:  0  Y:  1 X AND Y:  0  X OR Y:  1  X XOR Y:  1\n",
      "X:  1  Y:  0 X AND Y:  0  X OR Y:  1  X XOR Y:  1\n",
      "X:  1  Y:  1 X AND Y:  1  X OR Y:  1  X XOR Y:  0\n"
     ]
    }
   ],
   "source": [
    "for x, y in truthTableTwo:\n",
    "    print(\"X: \", x, \" Y: \", y, \"X AND Y: \", x & y, \" X OR Y: \", x | y, \" X XOR Y: \", x ^ y )"
   ]
  },
  {
   "cell_type": "markdown",
   "metadata": {},
   "source": [
    "In this case, we used some bitwise operators as they produced similar results, in this case, with logival operators the same truth table"
   ]
  },
  {
   "cell_type": "code",
   "execution_count": null,
   "metadata": {},
   "outputs": [],
   "source": []
  }
 ],
 "metadata": {
  "kernelspec": {
   "display_name": "Python",
   "language": "python",
   "name": "conda-env-python-py"
  },
  "language_info": {
   "codemirror_mode": {
    "name": "ipython",
    "version": 3
   },
   "file_extension": ".py",
   "mimetype": "text/x-python",
   "name": "python",
   "nbconvert_exporter": "python",
   "pygments_lexer": "ipython3",
   "version": "3.6.7"
  }
 },
 "nbformat": 4,
 "nbformat_minor": 4
}
